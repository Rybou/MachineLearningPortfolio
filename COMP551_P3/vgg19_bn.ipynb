{
  "nbformat": 4,
  "nbformat_minor": 0,
  "metadata": {
    "colab": {
      "name": "vgg19_bn.ipynb",
      "version": "0.3.2",
      "provenance": [],
      "collapsed_sections": []
    },
    "kernelspec": {
      "display_name": "Python 3",
      "language": "python",
      "name": "python3"
    },
    "accelerator": "GPU"
  },
  "cells": [
    {
      "metadata": {
        "id": "r6HdN6hUrLs7",
        "colab_type": "text"
      },
      "cell_type": "markdown",
      "source": [
        "# COMP551: Project 3"
      ]
    },
    {
      "metadata": {
        "id": "8CXBD0H-rHk9",
        "colab_type": "text"
      },
      "cell_type": "markdown",
      "source": [
        "#### Group 47\n",
        "#### Authors : Ying Sun, Said Khalifef & Boury Mbodj\n",
        "#### Date : March 16th 2019\n",
        "#### Subject: The given file contains the implementation of a vgg19 with batch normalization supervised classification model using pytorch. "
      ]
    },
    {
      "metadata": {
        "colab_type": "code",
        "id": "an4jb3M2o0iZ",
        "colab": {}
      },
      "cell_type": "code",
      "source": [
        "import pandas as pd\n",
        "import torch\n",
        "import torchvision\n",
        "import torchvision.transforms as transforms\n",
        "import numpy as np\n",
        "from torch.utils.data import DataLoader, Dataset, TensorDataset"
      ],
      "execution_count": 0,
      "outputs": []
    },
    {
      "metadata": {
        "colab_type": "code",
        "id": "eJo-aFMiufRA",
        "outputId": "7b07cb49-fa15-42be-c40e-f699da6517eb",
        "colab": {
          "base_uri": "https://localhost:8080/",
          "height": 122
        }
      },
      "cell_type": "code",
      "source": [
        "# Load the Drive helper and mount\n",
        "from google.colab import drive\n",
        "\n",
        "# This will prompt for authorization.\n",
        "drive.mount('/content/drive')"
      ],
      "execution_count": 0,
      "outputs": [
        {
          "output_type": "stream",
          "text": [
            "Go to this URL in a browser: https://accounts.google.com/o/oauth2/auth?client_id=947318989803-6bn6qk8qdgf4n4g3pfee6491hc0brc4i.apps.googleusercontent.com&redirect_uri=urn%3Aietf%3Awg%3Aoauth%3A2.0%3Aoob&scope=email%20https%3A%2F%2Fwww.googleapis.com%2Fauth%2Fdocs.test%20https%3A%2F%2Fwww.googleapis.com%2Fauth%2Fdrive%20https%3A%2F%2Fwww.googleapis.com%2Fauth%2Fdrive.photos.readonly%20https%3A%2F%2Fwww.googleapis.com%2Fauth%2Fpeopleapi.readonly&response_type=code\n",
            "\n",
            "Enter your authorization code:\n",
            "··········\n",
            "Mounted at /content/drive\n"
          ],
          "name": "stdout"
        }
      ]
    },
    {
      "metadata": {
        "colab_type": "code",
        "id": "jFdi_HhFuy7W",
        "outputId": "3c17ae4e-a154-40f5-eb4c-9d2017043573",
        "colab": {
          "base_uri": "https://localhost:8080/",
          "height": 68
        }
      },
      "cell_type": "code",
      "source": [
        "# After executing the cell above, Drive\n",
        "# files will be present in \"/content/drive/My Drive\".\n",
        "!ls \"/content/drive/My Drive/COMP551P3/comp-551-w2019-project-3-modified-mnist\""
      ],
      "execution_count": 0,
      "outputs": [
        {
          "output_type": "stream",
          "text": [
            "Model\t\tP3trial4.ipynb\t      sample_submission.csv  train_images.pkl\n",
            "P3resnet.ipynb\tProject3_model.ipynb  solution_final3.csv    train_labels.csv\n",
            "P3trial2.ipynb\tProject3_model.py     test_images.pkl\t     Untitled.ipynb\n"
          ],
          "name": "stdout"
        }
      ]
    },
    {
      "metadata": {
        "colab_type": "code",
        "id": "7XBd4yUW9fNV",
        "colab": {}
      },
      "cell_type": "code",
      "source": [
        "f=open(\"/content/drive/My Drive/COMP551P3/comp-551-w2019-project-3-modified-mnist/train_images.pkl\",\"rb\")\n",
        "f1=open(\"/content/drive/My Drive/COMP551P3/comp-551-w2019-project-3-modified-mnist/train_labels.csv\",\"rb\")\n",
        "f2=open(\"/content/drive/My Drive/COMP551P3/comp-551-w2019-project-3-modified-mnist/test_images.pkl\",\"rb\")"
      ],
      "execution_count": 0,
      "outputs": []
    },
    {
      "metadata": {
        "colab_type": "code",
        "id": "pYAd2_qtvypy",
        "colab": {}
      },
      "cell_type": "code",
      "source": [
        "#read training data through pandas\n",
        "x_train=pd.read_pickle(f)\n",
        "#normalize training data by toTensor and mean(0.5) and std(0.5). \n",
        "#Note that torchvision.transforms can be used. But I'm still not familiar with it...\n",
        "x_train=(x_train/255-0.5)*2\n",
        "#read training lable, the first column in y_train_r is id num, the second column is lable.\n",
        "y_train_r = pd.read_csv(f1)\n",
        "#tranfer numpy to tensor, in order to use gpu\n",
        "y_train=torch.tensor(y_train_r.values[:,1])\n",
        "#product train set.\n",
        "trainset=[np.zeros((64,64)),np.zeros(1)]\n",
        "for j in range(36000): #Note this part all data in train_images.pkl is load into trainset.\n",
        "    # If valid set is needed, 40000 can be modifoed as the required length of trainset\n",
        "    # Then do the same thing to validset, but the range need to be after trainset\n",
        "    trainset.append([x_train[j],y_train[j]])\n",
        "del trainset[0]\n",
        "del trainset[0]\n",
        "#copy 1 channel as 3 channels\n",
        "# Use validation set \n",
        "validset=[np.zeros((64,64)),np.zeros(1)]\n",
        "for j in range(40000): #Note this part all data in train_images.pkl is load into trainset.\n",
        "    # If valid set is needed, 40000 can be modifoed as the required length of trainset\n",
        "    # Then do the same thing to validset, but the range need to be after trainset\n",
        "    if (j>36000):\n",
        "       validset.append([x_train[j],y_train[j]])\n",
        "del validset[0]\n",
        "del validset[0]\n",
        "#copy 1 channel as 3 channels \n",
        "for i in range(len(trainset)):\n",
        "    trainset[i][0]=torch.tensor([np.array(trainset[i][0]),np.array(trainset[i][0]),np.array(trainset[i][0])])\n",
        "#Get trainloader\n",
        "trainloader = torch.utils.data.DataLoader(trainset, batch_size=4,\n",
        "                                          shuffle=True, num_workers=2)\n",
        "#copy 1 channel as 3 channels \n",
        "for i in range(len(validset)):\n",
        "    validset[i][0]=torch.tensor([np.array(validset[i][0]),np.array(validset[i][0]),np.array(validset[i][0])])\n",
        "#Get validloader\n",
        "validloader = torch.utils.data.DataLoader(validset, batch_size=4,\n",
        "                                          shuffle=False, num_workers=2)"
      ],
      "execution_count": 0,
      "outputs": []
    },
    {
      "metadata": {
        "colab_type": "code",
        "id": "iW68L9wAO91m",
        "colab": {}
      },
      "cell_type": "code",
      "source": [
        "# Preprocessing testset:\n",
        "x_test=pd.read_pickle(f2)\n",
        "x_test=(x_test/255-0.5)*2\n",
        "testset=[np.zeros((64,64)),np.zeros(1)]\n",
        "for j in range(len(x_test)):\n",
        "    testset.append([x_test[j],y_train[j]])\n",
        "del testset[0]\n",
        "del testset[0]\n",
        "for i in range(len(testset)):\n",
        "    testset[i][0]=torch.tensor([np.array(testset[i][0]),np.array(testset[i][0]),np.array(testset[i][0])])\n",
        "#preporcessing testloader\n",
        "testloader = torch.utils.data.DataLoader(testset, batch_size=1,\n",
        "                                          shuffle=False, num_workers=2)"
      ],
      "execution_count": 0,
      "outputs": []
    },
    {
      "metadata": {
        "colab_type": "code",
        "id": "D68t0H0F9Ahr",
        "outputId": "01ed9a0b-02e8-4df1-9c13-7fc7de2cde4c",
        "colab": {
          "base_uri": "https://localhost:8080/",
          "height": 85
        }
      },
      "cell_type": "code",
      "source": [
        "print('[Train  and validation size]')\n",
        "print(' - Numpy Shape:', x_train.shape)\n",
        "print('[Test size]')\n",
        "print(' - Numpy Shape:', x_test.shape)\n",
        "\n",
        "\n"
      ],
      "execution_count": 0,
      "outputs": [
        {
          "output_type": "stream",
          "text": [
            "[Train  and validation size]\n",
            " - Numpy Shape: (40000, 64, 64)\n",
            "[Test size]\n",
            " - Numpy Shape: (10000, 64, 64)\n"
          ],
          "name": "stdout"
        }
      ]
    },
    {
      "metadata": {
        "colab_type": "code",
        "id": "D8a3S-TdO-te",
        "outputId": "a3817b86-ea2e-414f-aeda-e022d1e2b62a",
        "colab": {
          "base_uri": "https://localhost:8080/",
          "height": 349
        }
      },
      "cell_type": "code",
      "source": [
        "# function to show figures. This part has nothing to do with training.\n",
        "import matplotlib.pyplot as plt\n",
        "import numpy as np\n",
        "plt.imshow(x_test[100])\n",
        "plt.show()"
      ],
      "execution_count": 0,
      "outputs": [
        {
          "output_type": "display_data",
          "data": {
            "image/png": "[encoded data removed]",
            "text/plain": [
              "<Figure size 576x396 with 1 Axes>"
            ]
          },
          "metadata": {
            "tags": []
          }
        }
      ]
    },
    {
      "metadata": {
        "colab_type": "code",
        "id": "UZ-CJNOJPRgI",
        "outputId": "26140151-727e-4698-9a2e-1114acc552d5",
        "colab": {
          "base_uri": "https://localhost:8080/",
          "height": 51
        }
      },
      "cell_type": "code",
      "source": [
        "#*********************************************************************\n",
        "# model part\n",
        "import torchvision.models as models\n",
        "# use pretrained model:\n",
        "model = models.vgg19_bn(pretrained = True)\n",
        "#import OrderedDicted to corectly align the network layers\n",
        "#import nn to modify features\n",
        "from collections import OrderedDict\n",
        "from torch import nn\n",
        "#create classifier which fit our num of outputs\n",
        "classifier= nn.Sequential(\n",
        "            nn.Dropout(p = 0.5),\n",
        "            nn.Linear(in_features=25088, out_features=512, bias=True),\n",
        "            nn.BatchNorm1d(512),\n",
        "            nn.ReLU(inplace=True),\n",
        "            nn.Dropout(p = 0.5),\n",
        "            nn.Linear(in_features=512, out_features=512, bias=True),\n",
        "            nn.BatchNorm1d(512),\n",
        "            nn.ReLU(inplace=True),\n",
        "            nn.Dropout(p = 0.4),\n",
        "            nn.Linear(512, 10),\n",
        "        )\n",
        "#replace the model's classifier with this new classifier \n",
        "model.classifier = classifier"
      ],
      "execution_count": 0,
      "outputs": [
        {
          "output_type": "stream",
          "text": [
            "Downloading: \"https://download.pytorch.org/models/vgg19_bn-c79401a0.pth\" to /root/.torch/models/vgg19_bn-c79401a0.pth\n",
            "574769405it [00:09, 60272341.23it/s]\n"
          ],
          "name": "stderr"
        }
      ]
    },
    {
      "metadata": {
        "colab_type": "code",
        "id": "FNJMkhfKPSAI",
        "colab": {}
      },
      "cell_type": "code",
      "source": [
        "#import optimizer:\n",
        "from torch import optim\n",
        "#define criteria and optimizer\n",
        "# Note that other losses or optimizers can also be tried\n",
        "criteria = nn.CrossEntropyLoss()\n",
        "optimizer = optim.SGD(model.parameters(), lr = 0.0003, momentum=0.9)"
      ],
      "execution_count": 0,
      "outputs": []
    },
    {
      "metadata": {
        "colab_type": "code",
        "id": "gSumLrfaPZZ6",
        "colab": {}
      },
      "cell_type": "code",
      "source": [
        "#train model\n",
        "#define training function\n",
        "def train (model, loader, criterion, gpu):\n",
        "    model.train()\n",
        "    current_loss = 0\n",
        "    current_correct = 0\n",
        "    for train, y_train in iter(loader):\n",
        "        if gpu:\n",
        "            train, y_train = train.to('cuda'), y_train.to('cuda')\n",
        "        optimizer.zero_grad()\n",
        "        output = model.forward(train)\n",
        "        _, preds = torch.max(output,1)\n",
        "        loss = criterion(output, y_train)\n",
        "        loss.backward()\n",
        "        optimizer.step()\n",
        "        current_loss += loss.item()*train.size(0)\n",
        "        current_correct += torch.sum(preds == y_train.data)\n",
        "        #check if the training is correct: print(preds,y_train,current_correct,current_loss)\n",
        "    epoch_loss = current_loss / len(loader)\n",
        "    # devide 4 because we read 4 data everytime\n",
        "    epoch_acc = current_correct.double() / len(loader)/4\n",
        "        \n",
        "    return epoch_loss, epoch_acc"
      ],
      "execution_count": 0,
      "outputs": []
    },
    {
      "metadata": {
        "colab_type": "code",
        "id": "KVd48zETPc3V",
        "colab": {}
      },
      "cell_type": "code",
      "source": [
        "#define validation function\n",
        "def validation (model, loader, criterion, gpu):\n",
        "    model.eval()\n",
        "    valid_loss = 0\n",
        "    valid_correct = 0\n",
        "    #I added this\n",
        "    pred=torch.zeros(len(loader))\n",
        "    for valid, y_valid in iter(loader):\n",
        "        if gpu:\n",
        "            valid, y_valid = valid.to('cuda'), y_valid.to('cuda')\n",
        "        output = model.forward(valid)\n",
        "        _, preds = torch.max(output,1)\n",
        "        valid_loss += criterion(output, y_valid).item()*valid.size(0)\n",
        "        valid_correct += torch.sum(preds == y_valid.data)\n",
        "    \n",
        "    epoch_loss = valid_loss / len(loader)\n",
        "    epoch_acc = valid_correct.double() / len(loader)/4\n",
        "    \n",
        "    return epoch_loss, epoch_acc"
      ],
      "execution_count": 0,
      "outputs": []
    },
    {
      "metadata": {
        "colab_type": "code",
        "id": "PeVn5a0vPhJW",
        "colab": {}
      },
      "cell_type": "code",
      "source": [
        "#define test function\n",
        "def test (model, loader, criterion, gpu):\n",
        "    model.eval()\n",
        "    valid_loss = 0\n",
        "    valid_correct = 0\n",
        "    i=0\n",
        "    pred=torch.zeros(len(loader))\n",
        "    for test, y_train in iter(loader):\n",
        "        if gpu:\n",
        "            test = test.to('cuda')\n",
        "        output = model.forward(test)\n",
        "        _, preds = torch.max(output,1)\n",
        "        pred[i]=preds\n",
        "        i=i+1    \n",
        "    return pred"
      ],
      "execution_count": 0,
      "outputs": []
    },
    {
      "metadata": {
        "colab_type": "code",
        "id": "zgXlX7GTPmqb",
        "outputId": "1c5f9f4b-7bac-4244-c575-1d48a56fdb87",
        "colab": {
          "base_uri": "https://localhost:8080/",
          "height": 833
        }
      },
      "cell_type": "code",
      "source": [
        "# training\n",
        "#send model to gpu. If not send it to GPU, delete next line.\n",
        "model.to('cuda')\n",
        "train_losses =[]\n",
        "train_acc =[]\n",
        "valid_losses=[]\n",
        "valid_acc =[]\n",
        "#Initialize training params  \n",
        "#freeze gradient parameters in pretrained model\n",
        "for param in model.parameters():\n",
        "    param.require_grad = False\n",
        "# define number of epochs\n",
        "epochs = 16 \n",
        "epoch = 0\n",
        "\n",
        "for e in range(epochs):\n",
        "    epoch +=1\n",
        "    print(epoch)\n",
        "#train:    \n",
        "    with torch.set_grad_enabled(True):\n",
        "        epoch_train_loss, epoch_train_acc = train(model,trainloader, criteria, 1)\n",
        "        train_losses.append(epoch_train_loss)\n",
        "        train_acc.append(epoch_train_acc)\n",
        "    print(\"Epoch: {} Train Loss : {:.4f}  Train Accuracy: {:.4f}\".format(epoch,epoch_train_loss,epoch_train_acc))\n",
        "    \n",
        "#Valid, Activate next code when validation result is needed:\n",
        "    with torch.no_grad():\n",
        "        epoch_val_loss, epoch_val_acc = validation(model, validloader, criteria, 1)\n",
        "        valid_losses.append(epoch_val_loss)\n",
        "        valid_acc.append(epoch_val_acc)\n",
        "    print(\"Epoch: {} Validation Loss : {:.4f}  Validation Accuracy {:.4f}\".format(epoch,epoch_val_loss,epoch_val_acc))"
      ],
      "execution_count": 0,
      "outputs": [
        {
          "output_type": "stream",
          "text": [
            "1\n",
            "Epoch: 1 Train Loss : 5.4980  Train Accuracy: 0.5510\n",
            "Epoch: 1 Validation Loss : 1.2132  Validation Accuracy 0.9268\n",
            "2\n",
            "Epoch: 2 Train Loss : 2.3895  Train Accuracy: 0.8369\n",
            "Epoch: 2 Validation Loss : 0.7673  Validation Accuracy 0.9485\n",
            "3\n",
            "Epoch: 3 Train Loss : 1.5623  Train Accuracy: 0.8975\n",
            "Epoch: 3 Validation Loss : 0.7101  Validation Accuracy 0.9560\n",
            "4\n",
            "Epoch: 4 Train Loss : 1.1674  Train Accuracy: 0.9248\n",
            "Epoch: 4 Validation Loss : 0.6034  Validation Accuracy 0.9583\n",
            "5\n",
            "Epoch: 5 Train Loss : 0.8653  Train Accuracy: 0.9474\n",
            "Epoch: 5 Validation Loss : 0.5585  Validation Accuracy 0.9613\n",
            "6\n",
            "Epoch: 6 Train Loss : 0.7176  Train Accuracy: 0.9544\n",
            "Epoch: 6 Validation Loss : 0.4538  Validation Accuracy 0.9710\n",
            "7\n",
            "Epoch: 7 Train Loss : 0.5672  Train Accuracy: 0.9651\n",
            "Epoch: 7 Validation Loss : 0.5109  Validation Accuracy 0.9657\n",
            "8\n",
            "Epoch: 8 Train Loss : 0.4757  Train Accuracy: 0.9709\n",
            "Epoch: 8 Validation Loss : 0.4349  Validation Accuracy 0.9693\n",
            "9\n",
            "Epoch: 9 Train Loss : 0.4518  Train Accuracy: 0.9725\n",
            "Epoch: 9 Validation Loss : 0.4300  Validation Accuracy 0.9695\n",
            "10\n",
            "Epoch: 10 Train Loss : 0.3517  Train Accuracy: 0.9782\n",
            "Epoch: 10 Validation Loss : 0.4335  Validation Accuracy 0.9723\n",
            "11\n",
            "Epoch: 11 Train Loss : 0.2733  Train Accuracy: 0.9836\n",
            "Epoch: 11 Validation Loss : 0.5447  Validation Accuracy 0.9643\n",
            "12\n",
            "Epoch: 12 Train Loss : 0.2399  Train Accuracy: 0.9856\n",
            "Epoch: 12 Validation Loss : 0.4125  Validation Accuracy 0.9743\n",
            "13\n",
            "Epoch: 13 Train Loss : 0.2414  Train Accuracy: 0.9869\n",
            "Epoch: 13 Validation Loss : 0.5183  Validation Accuracy 0.9655\n",
            "14\n",
            "Epoch: 14 Train Loss : 0.2292  Train Accuracy: 0.9873\n",
            "Epoch: 14 Validation Loss : 0.5835  Validation Accuracy 0.9617\n",
            "15\n",
            "Epoch: 15 Train Loss : 0.2016  Train Accuracy: 0.9883\n",
            "Epoch: 15 Validation Loss : 0.4730  Validation Accuracy 0.9700\n",
            "16\n",
            "Epoch: 16 Train Loss : 0.1957  Train Accuracy: 0.9889\n",
            "Epoch: 16 Validation Loss : 0.4787  Validation Accuracy 0.9715\n"
          ],
          "name": "stdout"
        }
      ]
    },
    {
      "metadata": {
        "colab_type": "code",
        "id": "m55HUEJOOAzb",
        "outputId": "babd2d48-fcf8-482b-bdb9-e8b42c305199",
        "colab": {
          "base_uri": "https://localhost:8080/",
          "height": 364
        }
      },
      "cell_type": "code",
      "source": [
        "#Plot training and validation losses\n",
        "plt.plot(train_losses, label='Training loss')\n",
        "plt.plot(valid_losses, label='Validation loss')\n",
        "plt.legend()"
      ],
      "execution_count": 0,
      "outputs": [
        {
          "output_type": "execute_result",
          "data": {
            "text/plain": [
              "<matplotlib.legend.Legend at 0x7fd8cc339198>"
            ]
          },
          "metadata": {
            "tags": []
          },
          "execution_count": 17
        },
        {
          "output_type": "display_data",
          "data": {
            "image/png": "[encoded data removed]",
            "text/plain": [
              "<Figure size 576x396 with 1 Axes>"
            ]
          },
          "metadata": {
            "tags": []
          }
        }
      ]
    },
    {
      "metadata": {
        "colab_type": "code",
        "id": "Ieym9VY0TI-_",
        "outputId": "4220c5c7-4fba-4e17-d6f7-e5244c4f005d",
        "colab": {
          "base_uri": "https://localhost:8080/",
          "height": 364
        }
      },
      "cell_type": "code",
      "source": [
        "#Plot training and validation accuracy\n",
        "plt.plot(train_acc, label='Training accuracy')\n",
        "plt.plot(valid_acc, label='Validation accuracy')\n",
        "plt.legend()"
      ],
      "execution_count": 0,
      "outputs": [
        {
          "output_type": "execute_result",
          "data": {
            "text/plain": [
              "<matplotlib.legend.Legend at 0x7fd8cba78c50>"
            ]
          },
          "metadata": {
            "tags": []
          },
          "execution_count": 18
        },
        {
          "output_type": "display_data",
          "data": {
            "image/png": "[encoded data removed]",
            "text/plain": [
              "<Figure size 576x396 with 1 Axes>"
            ]
          },
          "metadata": {
            "tags": []
          }
        }
      ]
    },
    {
      "metadata": {
        "colab_type": "code",
        "id": "icl6jrEU0x9C",
        "outputId": "46df6ae6-03d3-44d8-e71e-1413a5ee69b5",
        "colab": {
          "base_uri": "https://localhost:8080/",
          "height": 372
        }
      },
      "cell_type": "code",
      "source": [
        "# for variety, lets use altair to do the plot\n",
        "import altair as alt\n",
        "\n",
        "# create a pandas dataframe for the loss\n",
        "df = pd.DataFrame({\n",
        "    'epoch': range(1, len(train_losses) + 1),\n",
        "    'train': train_losses,\n",
        "    'valid': valid_losses\n",
        "})\n",
        "\n",
        "# unpivot to have cols [epoch, dataset, loss]\n",
        "df = df.melt(id_vars=['epoch'],\n",
        "             value_vars=['train', 'valid'],\n",
        "             value_name='loss',\n",
        "             var_name='Dataset')\n",
        "\n",
        "# line plot with altair\n",
        "alt.Chart(df).mark_line(point=True)\\\n",
        "    .encode(x='epoch', y='loss', color='Dataset')\\\n",
        "    .interactive()"
      ],
      "execution_count": 0,
      "outputs": [
        {
          "output_type": "execute_result",
          "data": {
            "text/html": [
              "<!DOCTYPE html>\n",
              "<html>\n",
              "<head>\n",
              "  <style>\n",
              "    .vega-actions a {\n",
              "        margin-right: 12px;\n",
              "        color: #757575;\n",
              "        font-weight: normal;\n",
              "        font-size: 13px;\n",
              "    }\n",
              "    .error {\n",
              "        color: red;\n",
              "    }\n",
              "  </style>\n",
              "  <script type=\"text/javascript\" src=\"https://cdn.jsdelivr.net/npm//vega@4\"></script>\n",
              "  <script type=\"text/javascript\" src=\"https://cdn.jsdelivr.net/npm//vega-lite@2.6.0\"></script>\n",
              "  <script type=\"text/javascript\" src=\"https://cdn.jsdelivr.net/npm//vega-embed@3\"></script>\n",
              "</head>\n",
              "<body>\n",
              "  <div id=\"altair-viz\"></div>\n",
              "  <script>\n",
              "      var spec = {\"config\": {\"view\": {\"width\": 400, \"height\": 300}}, \"data\": {\"name\": \"data-dee48b4ae3998b21e267d11cb9925c02\"}, \"mark\": {\"type\": \"line\", \"point\": true}, \"encoding\": {\"color\": {\"type\": \"nominal\", \"field\": \"Dataset\"}, \"x\": {\"type\": \"quantitative\", \"field\": \"epoch\"}, \"y\": {\"type\": \"quantitative\", \"field\": \"loss\"}}, \"selection\": {\"selector001\": {\"type\": \"interval\", \"bind\": \"scales\", \"encodings\": [\"x\", \"y\"]}}, \"$schema\": \"https://vega.github.io/schema/vega-lite/v2.6.0.json\", \"datasets\": {\"data-dee48b4ae3998b21e267d11cb9925c02\": [{\"epoch\": 1, \"Dataset\": \"train\", \"loss\": 5.49798491206434}, {\"epoch\": 2, \"Dataset\": \"train\", \"loss\": 2.3894556922382777}, {\"epoch\": 3, \"Dataset\": \"train\", \"loss\": 1.5623377341032028}, {\"epoch\": 4, \"Dataset\": \"train\", \"loss\": 1.167425788031684}, {\"epoch\": 5, \"Dataset\": \"train\", \"loss\": 0.8653317326439751}, {\"epoch\": 6, \"Dataset\": \"train\", \"loss\": 0.7176238896184497}, {\"epoch\": 7, \"Dataset\": \"train\", \"loss\": 0.5672233910295699}, {\"epoch\": 8, \"Dataset\": \"train\", \"loss\": 0.4757299048635695}, {\"epoch\": 9, \"Dataset\": \"train\", \"loss\": 0.451792633122868}, {\"epoch\": 10, \"Dataset\": \"train\", \"loss\": 0.35174007797241214}, {\"epoch\": 11, \"Dataset\": \"train\", \"loss\": 0.2732596756219864}, {\"epoch\": 12, \"Dataset\": \"train\", \"loss\": 0.23991448060671489}, {\"epoch\": 13, \"Dataset\": \"train\", \"loss\": 0.2414216975238588}, {\"epoch\": 14, \"Dataset\": \"train\", \"loss\": 0.22915912079811096}, {\"epoch\": 15, \"Dataset\": \"train\", \"loss\": 0.20158634883827634}, {\"epoch\": 16, \"Dataset\": \"train\", \"loss\": 0.19571358941660988}, {\"epoch\": 1, \"Dataset\": \"valid\", \"loss\": 1.2132334631979464}, {\"epoch\": 2, \"Dataset\": \"valid\", \"loss\": 0.7673362789750099}, {\"epoch\": 3, \"Dataset\": \"valid\", \"loss\": 0.7100609450042248}, {\"epoch\": 4, \"Dataset\": \"valid\", \"loss\": 0.6033659862279892}, {\"epoch\": 5, \"Dataset\": \"valid\", \"loss\": 0.5584980070590972}, {\"epoch\": 6, \"Dataset\": \"valid\", \"loss\": 0.4538274042531848}, {\"epoch\": 7, \"Dataset\": \"valid\", \"loss\": 0.5109205130338669}, {\"epoch\": 8, \"Dataset\": \"valid\", \"loss\": 0.4349365586023778}, {\"epoch\": 9, \"Dataset\": \"valid\", \"loss\": 0.43000295459479093}, {\"epoch\": 10, \"Dataset\": \"valid\", \"loss\": 0.43345358383655547}, {\"epoch\": 11, \"Dataset\": \"valid\", \"loss\": 0.5446905356650241}, {\"epoch\": 12, \"Dataset\": \"valid\", \"loss\": 0.41245471286773683}, {\"epoch\": 13, \"Dataset\": \"valid\", \"loss\": 0.5182849601507187}, {\"epoch\": 14, \"Dataset\": \"valid\", \"loss\": 0.5835292328894138}, {\"epoch\": 15, \"Dataset\": \"valid\", \"loss\": 0.47300566840171815}, {\"epoch\": 16, \"Dataset\": \"valid\", \"loss\": 0.4787494609951973}]}};\n",
              "      var embedOpt = {\"mode\": \"vega-lite\"};\n",
              "\n",
              "      function showError(el, error){\n",
              "          el.innerHTML = ('<div class=\"error\" style=\"color:red;\">'\n",
              "                          + '<p>JavaScript Error: ' + error.message + '</p>'\n",
              "                          + \"<p>This usually means there's a typo in your chart specification. \"\n",
              "                          + \"See the javascript console for the full traceback.</p>\"\n",
              "                          + '</div>');\n",
              "          throw error;\n",
              "      }\n",
              "      const el = document.getElementById('altair-viz');\n",
              "      vegaEmbed(\"#altair-viz\", spec, embedOpt)\n",
              "        .catch(error => showError(el, error));\n",
              "\n",
              "  </script>\n",
              "</body>\n",
              "</html>"
            ],
            "text/plain": [
              "Chart({\n",
              "  data:     epoch Dataset      loss\n",
              "  0       1   train  5.497985\n",
              "  1       2   train  2.389456\n",
              "  2       3   train  1.562338\n",
              "  3       4   train  1.167426\n",
              "  4       5   train  0.865332\n",
              "  5       6   train  0.717624\n",
              "  6       7   train  0.567223\n",
              "  7       8   train  0.475730\n",
              "  8       9   train  0.451793\n",
              "  9      10   train  0.351740\n",
              "  10     11   train  0.273260\n",
              "  11     12   train  0.239914\n",
              "  12     13   train  0.241422\n",
              "  13     14   train  0.229159\n",
              "  14     15   train  0.201586\n",
              "  15     16   train  0.195714\n",
              "  16      1   valid  1.213233\n",
              "  17      2   valid  0.767336\n",
              "  18      3   valid  0.710061\n",
              "  19      4   valid  0.603366\n",
              "  20      5   valid  0.558498\n",
              "  21      6   valid  0.453827\n",
              "  22      7   valid  0.510921\n",
              "  23      8   valid  0.434937\n",
              "  24      9   valid  0.430003\n",
              "  25     10   valid  0.433454\n",
              "  26     11   valid  0.544691\n",
              "  27     12   valid  0.412455\n",
              "  28     13   valid  0.518285\n",
              "  29     14   valid  0.583529\n",
              "  30     15   valid  0.473006\n",
              "  31     16   valid  0.478749,\n",
              "  encoding: EncodingWithFacet({\n",
              "    color: Color({\n",
              "      shorthand: 'Dataset'\n",
              "    }),\n",
              "    x: X({\n",
              "      shorthand: 'epoch'\n",
              "    }),\n",
              "    y: Y({\n",
              "      shorthand: 'loss'\n",
              "    })\n",
              "  }),\n",
              "  mark: MarkDef({\n",
              "    point: True,\n",
              "    type: 'line'\n",
              "  }),\n",
              "  selection: SelectionMapping({\n",
              "    selector001: SelectionDef({\n",
              "      bind: 'scales',\n",
              "      encodings: ['x', 'y'],\n",
              "      type: 'interval'\n",
              "    })\n",
              "  })\n",
              "})"
            ]
          },
          "metadata": {
            "tags": []
          },
          "execution_count": 19
        }
      ]
    },
    {
      "metadata": {
        "colab_type": "code",
        "id": "ZGKyPYmXPpp3",
        "colab": {}
      },
      "cell_type": "code",
      "source": [
        "#get prediction result for test data\n",
        "predict=test(model,testloader, criteria, 1)\n",
        "result=predict.numpy()"
      ],
      "execution_count": 0,
      "outputs": []
    },
    {
      "metadata": {
        "colab_type": "code",
        "id": "E96cFJQelsIx",
        "colab": {}
      },
      "cell_type": "code",
      "source": [
        "# Put data in the appropriate format for kaggle submissiom\n",
        "submission = pd.DataFrame()"
      ],
      "execution_count": 0,
      "outputs": []
    },
    {
      "metadata": {
        "colab_type": "code",
        "id": "LfIWQny2yjVh",
        "colab": {}
      },
      "cell_type": "code",
      "source": [
        "a = result.astype(int)\n",
        "df1 = pd.DataFrame({'Id': a})"
      ],
      "execution_count": 0,
      "outputs": []
    },
    {
      "metadata": {
        "colab_type": "code",
        "id": "QoBvDzEoyj5N",
        "outputId": "c2da1144-c3ae-4c7f-daba-57f8256226f7",
        "colab": {
          "base_uri": "https://localhost:8080/",
          "height": 204
        }
      },
      "cell_type": "code",
      "source": [
        "submission['Id']=range(0, len(df1) )\n",
        "\n",
        "submission['Category']=a\n",
        "submission.head()"
      ],
      "execution_count": 0,
      "outputs": [
        {
          "output_type": "execute_result",
          "data": {
            "text/html": [
              "<div>\n",
              "<style scoped>\n",
              "    .dataframe tbody tr th:only-of-type {\n",
              "        vertical-align: middle;\n",
              "    }\n",
              "\n",
              "    .dataframe tbody tr th {\n",
              "        vertical-align: top;\n",
              "    }\n",
              "\n",
              "    .dataframe thead th {\n",
              "        text-align: right;\n",
              "    }\n",
              "</style>\n",
              "<table border=\"1\" class=\"dataframe\">\n",
              "  <thead>\n",
              "    <tr style=\"text-align: right;\">\n",
              "      <th></th>\n",
              "      <th>Id</th>\n",
              "      <th>Category</th>\n",
              "    </tr>\n",
              "  </thead>\n",
              "  <tbody>\n",
              "    <tr>\n",
              "      <th>0</th>\n",
              "      <td>0</td>\n",
              "      <td>7</td>\n",
              "    </tr>\n",
              "    <tr>\n",
              "      <th>1</th>\n",
              "      <td>1</td>\n",
              "      <td>1</td>\n",
              "    </tr>\n",
              "    <tr>\n",
              "      <th>2</th>\n",
              "      <td>2</td>\n",
              "      <td>6</td>\n",
              "    </tr>\n",
              "    <tr>\n",
              "      <th>3</th>\n",
              "      <td>3</td>\n",
              "      <td>1</td>\n",
              "    </tr>\n",
              "    <tr>\n",
              "      <th>4</th>\n",
              "      <td>4</td>\n",
              "      <td>8</td>\n",
              "    </tr>\n",
              "  </tbody>\n",
              "</table>\n",
              "</div>"
            ],
            "text/plain": [
              "   Id  Category\n",
              "0   0         7\n",
              "1   1         1\n",
              "2   2         6\n",
              "3   3         1\n",
              "4   4         8"
            ]
          },
          "metadata": {
            "tags": []
          },
          "execution_count": 25
        }
      ]
    },
    {
      "metadata": {
        "colab_type": "code",
        "id": "XTqa6lNJpIBM",
        "colab": {}
      },
      "cell_type": "code",
      "source": [
        "submission.to_csv('vggc_.csv', index=False)"
      ],
      "execution_count": 0,
      "outputs": []
    },
    {
      "metadata": {
        "colab_type": "code",
        "id": "LVj0yPYlzjJn",
        "colab": {}
      },
      "cell_type": "code",
      "source": [
        "from google.colab import files\n",
        "files.download('vggc_.csv') "
      ],
      "execution_count": 0,
      "outputs": []
    }
  ]
}