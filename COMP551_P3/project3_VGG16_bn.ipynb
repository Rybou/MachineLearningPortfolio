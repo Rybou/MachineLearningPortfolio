{
 "cells": [
  {
   "cell_type": "code",
   "execution_count": 1,
   "metadata": {},
   "outputs": [],
   "source": [
    "import pandas as pd\n",
    "import torch\n",
    "import torchvision\n",
    "import torchvision.transforms as transforms\n",
    "import numpy as np"
   ]
  },
  {
   "cell_type": "code",
   "execution_count": 2,
   "metadata": {},
   "outputs": [],
   "source": [
    "#read training data through pandas\n",
    "x_train=pd.read_pickle('D:/ML/COMP551/comp-551-w2019-project-3-modified-mnist/train_images.pkl')\n",
    "#normalize training data by toTensor and mean(0.5) and std(0.5). \n",
    "#Note that torchvision.transforms can be used. But I'm still not familiar with it...\n",
    "x_train=x_train/255#-0.5)*2\n",
    "#read training lable, the first column in y_train_r is id num, the second column is lable.\n",
    "y_train_r = pd.read_csv('D:/ML/COMP551/comp-551-w2019-project-3-modified-mnist/train_labels.csv')\n",
    "#tranfer numpy to tensor, in order to use gpu\n",
    "y_train=torch.tensor(y_train_r.values[:,1])\n",
    "#product train set.\n",
    "trainset=[np.zeros((64,64)),np.zeros(1)]\n",
    "for j in range(36000): #Note this part all data in train_images.pkl is load into trainset.\n",
    "    # If valid set is needed, 40000 can be modifoed as the required length of trainset\n",
    "    # Then do the same thing to validset, but the range need to be after trainset\n",
    "    trainset.append([x_train[j],y_train[j]])\n",
    "del trainset[0]\n",
    "del trainset[0]\n",
    "#copy 1 channel as 3 channels\n",
    "for i in range(len(trainset)):\n",
    "    trainset[i][0]=torch.tensor([np.array(trainset[i][0]),np.array(trainset[i][0]),np.array(trainset[i][0])])\n",
    "#Get trainloader\n",
    "trainloader = torch.utils.data.DataLoader(trainset, batch_size=4,\n",
    "                                          shuffle=True, num_workers=2)\n",
    "\n"
   ]
  },
  {
   "cell_type": "code",
   "execution_count": 3,
   "metadata": {},
   "outputs": [],
   "source": [
    "validset=[np.zeros((64,64)),np.zeros(1)]\n",
    "for j in range(36000,40000): #Note this part all data in train_images.pkl is load into trainset.\n",
    "    # If valid set is needed, 40000 can be modifoed as the required length of trainset\n",
    "    # Then do the same thing to validset, but the range need to be after trainset\n",
    "    validset.append([x_train[j],y_train[j]])\n",
    "del validset[0]\n",
    "del validset[0]\n",
    "#copy 1 channel as 3 channels\n",
    "for i in range(len(validset)):\n",
    "    validset[i][0]=torch.tensor([np.array(validset[i][0]),np.array(validset[i][0]),np.array(validset[i][0])])\n",
    "#Get trainloader\n",
    "validloader = torch.utils.data.DataLoader(validset, batch_size=4,\n",
    "                                          shuffle=True, num_workers=2)"
   ]
  },
  {
   "cell_type": "code",
   "execution_count": 4,
   "metadata": {},
   "outputs": [],
   "source": [
    "# Preprocessing testset:\n",
    "x_test=pd.read_pickle('D:/ML/COMP551/comp-551-w2019-project-3-modified-mnist/test_images.pkl')\n",
    "x_test=x_test/255#-0.5)*2\n",
    "testset=[np.zeros((64,64)),np.zeros(1)]\n",
    "for j in range(len(x_test)):\n",
    "    testset.append([x_test[j],y_train[j]])\n",
    "del testset[0]\n",
    "del testset[0]\n",
    "for i in range(len(testset)):\n",
    "    testset[i][0]=torch.tensor([np.array(testset[i][0]),np.array(testset[i][0]),np.array(testset[i][0])])\n",
    "#preporcessing testloader\n",
    "testloader = torch.utils.data.DataLoader(testset, batch_size=1,\n",
    "                                          shuffle=False, num_workers=2)"
   ]
  },
  {
   "cell_type": "code",
   "execution_count": 17,
   "metadata": {},
   "outputs": [
    {
     "data": {
      "image/png": "[encoded data removed]",
      "text/plain": [
       "<Figure size 432x288 with 1 Axes>"
      ]
     },
     "metadata": {
      "needs_background": "light"
     },
     "output_type": "display_data"
    }
   ],
   "source": [
    "# function to show figures. This part has nothing to do with training.\n",
    "import matplotlib.pyplot as plt\n",
    "import numpy as np\n",
    "plt.imshow(x_test[100])\n",
    "plt.show()"
   ]
  },
  {
   "cell_type": "code",
   "execution_count": 5,
   "metadata": {},
   "outputs": [],
   "source": [
    "#*********************************************************************\n",
    "# model part\n",
    "import torchvision.models as models\n",
    "# use pretrained model:\n",
    "model = models.vgg16_bn(pretrained=True)\n",
    "#import OrderedDicted to corectly align the network layers\n",
    "#import nn to modify features"
   ]
  },
  {
   "cell_type": "code",
   "execution_count": 22,
   "metadata": {},
   "outputs": [
    {
     "data": {
      "text/plain": [
       "<bound method Module.parameters of VGG(\n",
       "  (features): Sequential(\n",
       "    (0): Conv2d(3, 64, kernel_size=(3, 3), stride=(1, 1), padding=(1, 1))\n",
       "    (1): BatchNorm2d(64, eps=1e-05, momentum=0.1, affine=True, track_running_stats=True)\n",
       "    (2): ReLU(inplace)\n",
       "    (3): Conv2d(64, 64, kernel_size=(3, 3), stride=(1, 1), padding=(1, 1))\n",
       "    (4): BatchNorm2d(64, eps=1e-05, momentum=0.1, affine=True, track_running_stats=True)\n",
       "    (5): ReLU(inplace)\n",
       "    (6): MaxPool2d(kernel_size=2, stride=2, padding=0, dilation=1, ceil_mode=False)\n",
       "    (7): Conv2d(64, 128, kernel_size=(3, 3), stride=(1, 1), padding=(1, 1))\n",
       "    (8): BatchNorm2d(128, eps=1e-05, momentum=0.1, affine=True, track_running_stats=True)\n",
       "    (9): ReLU(inplace)\n",
       "    (10): Conv2d(128, 128, kernel_size=(3, 3), stride=(1, 1), padding=(1, 1))\n",
       "    (11): BatchNorm2d(128, eps=1e-05, momentum=0.1, affine=True, track_running_stats=True)\n",
       "    (12): ReLU(inplace)\n",
       "    (13): MaxPool2d(kernel_size=2, stride=2, padding=0, dilation=1, ceil_mode=False)\n",
       "    (14): Conv2d(128, 256, kernel_size=(3, 3), stride=(1, 1), padding=(1, 1))\n",
       "    (15): BatchNorm2d(256, eps=1e-05, momentum=0.1, affine=True, track_running_stats=True)\n",
       "    (16): ReLU(inplace)\n",
       "    (17): Conv2d(256, 256, kernel_size=(3, 3), stride=(1, 1), padding=(1, 1))\n",
       "    (18): BatchNorm2d(256, eps=1e-05, momentum=0.1, affine=True, track_running_stats=True)\n",
       "    (19): ReLU(inplace)\n",
       "    (20): Conv2d(256, 256, kernel_size=(3, 3), stride=(1, 1), padding=(1, 1))\n",
       "    (21): BatchNorm2d(256, eps=1e-05, momentum=0.1, affine=True, track_running_stats=True)\n",
       "    (22): ReLU(inplace)\n",
       "    (23): MaxPool2d(kernel_size=2, stride=2, padding=0, dilation=1, ceil_mode=False)\n",
       "    (24): Conv2d(256, 512, kernel_size=(3, 3), stride=(1, 1), padding=(1, 1))\n",
       "    (25): BatchNorm2d(512, eps=1e-05, momentum=0.1, affine=True, track_running_stats=True)\n",
       "    (26): ReLU(inplace)\n",
       "    (27): Conv2d(512, 512, kernel_size=(3, 3), stride=(1, 1), padding=(1, 1))\n",
       "    (28): BatchNorm2d(512, eps=1e-05, momentum=0.1, affine=True, track_running_stats=True)\n",
       "    (29): ReLU(inplace)\n",
       "    (30): Conv2d(512, 512, kernel_size=(3, 3), stride=(1, 1), padding=(1, 1))\n",
       "    (31): BatchNorm2d(512, eps=1e-05, momentum=0.1, affine=True, track_running_stats=True)\n",
       "    (32): ReLU(inplace)\n",
       "    (33): MaxPool2d(kernel_size=2, stride=2, padding=0, dilation=1, ceil_mode=False)\n",
       "    (34): Conv2d(512, 512, kernel_size=(3, 3), stride=(1, 1), padding=(1, 1))\n",
       "    (35): BatchNorm2d(512, eps=1e-05, momentum=0.1, affine=True, track_running_stats=True)\n",
       "    (36): ReLU(inplace)\n",
       "    (37): Conv2d(512, 512, kernel_size=(3, 3), stride=(1, 1), padding=(1, 1))\n",
       "    (38): BatchNorm2d(512, eps=1e-05, momentum=0.1, affine=True, track_running_stats=True)\n",
       "    (39): ReLU(inplace)\n",
       "    (40): Conv2d(512, 512, kernel_size=(3, 3), stride=(1, 1), padding=(1, 1))\n",
       "    (41): BatchNorm2d(512, eps=1e-05, momentum=0.1, affine=True, track_running_stats=True)\n",
       "    (42): ReLU(inplace)\n",
       "    (43): MaxPool2d(kernel_size=2, stride=2, padding=0, dilation=1, ceil_mode=False)\n",
       "  )\n",
       "  (avgpool): AdaptiveAvgPool2d(output_size=(7, 7))\n",
       "  (classifier): Sequential(\n",
       "    (0): Linear(in_features=25088, out_features=4096, bias=True)\n",
       "    (1): ReLU(inplace)\n",
       "    (2): Dropout(p=0.5)\n",
       "    (3): Linear(in_features=4096, out_features=4096, bias=True)\n",
       "    (4): ReLU(inplace)\n",
       "    (5): Dropout(p=0.5)\n",
       "    (6): Linear(in_features=4096, out_features=1000, bias=True)\n",
       "  )\n",
       ")>"
      ]
     },
     "execution_count": 22,
     "metadata": {},
     "output_type": "execute_result"
    }
   ],
   "source": [
    "model.parameters"
   ]
  },
  {
   "cell_type": "code",
   "execution_count": 6,
   "metadata": {},
   "outputs": [],
   "source": [
    "from collections import OrderedDict\n",
    "from torch import nn\n",
    "#create classifier which fit our num of outputs\n",
    "classifier=nn.Sequential(OrderedDict([('0', nn.Linear(in_features=25088, out_features=512, bias=True)),\n",
    "                                      ('1', nn.ReLU()),\n",
    "                                      ('2', nn.Dropout(p=0.5)),\n",
    "                                      ('3', nn.Linear(in_features=512, out_features=102, bias=True)),\n",
    "                                      ('4', nn.ReLU()),\n",
    "                                      ('5', nn.Dropout(p=0.5)),\n",
    "                                      ('6', nn.Linear(in_features=102, out_features=10, bias=True))\n",
    "                                     ]))\n",
    "#replace the model's classifier with this new classifier \n",
    "model.classifier = classifier"
   ]
  },
  {
   "cell_type": "code",
   "execution_count": 16,
   "metadata": {},
   "outputs": [],
   "source": []
  },
  {
   "cell_type": "code",
   "execution_count": 7,
   "metadata": {},
   "outputs": [],
   "source": [
    "#import optimizer:\n",
    "from torch import optim\n",
    "#from parallel import DataParallelModel\n",
    "#define criteria and optimizer\n",
    "# Note that other losses or optimizers can also be tried\n",
    "criteria = nn.CrossEntropyLoss()\n",
    "#criteria  = DataParallelCriterion(criteria)\n",
    "optimizer = optim.SGD(model.parameters(), lr = 0.001, momentum = 0.9)"
   ]
  },
  {
   "cell_type": "code",
   "execution_count": 8,
   "metadata": {},
   "outputs": [],
   "source": [
    "#train model\n",
    "#define training function\n",
    "def train (model, loader, criterion, gpu):\n",
    "    model.train()\n",
    "    current_loss = 0\n",
    "    current_correct = 0\n",
    "    for train, y_train in iter(loader):\n",
    "        if gpu:\n",
    "            train, y_train = train.to('cuda'), y_train.to('cuda')\n",
    "        optimizer.zero_grad()\n",
    "        output = model.forward(train)\n",
    "        _, preds = torch.max(output,1)\n",
    "        loss = criterion(output, y_train)\n",
    "        loss.backward()\n",
    "        optimizer.step()\n",
    "        current_loss += loss.item()*train.size(0)\n",
    "        current_correct += torch.sum(preds == y_train.data)\n",
    "        #check if the training is correct: \n",
    "        #print(preds,y_train,current_correct,current_loss)\n",
    "    epoch_loss = current_loss / len(loader)\n",
    "    # devide 4 because we read 4 data everytime\n",
    "    epoch_acc = current_correct.double() / len(loader)/4\n",
    "        \n",
    "    return epoch_loss, epoch_acc"
   ]
  },
  {
   "cell_type": "code",
   "execution_count": 9,
   "metadata": {},
   "outputs": [],
   "source": [
    "#define validation function\n",
    "def validation (model, loader, criterion, gpu):\n",
    "    model.eval()\n",
    "    valid_loss = 0\n",
    "    valid_correct = 0\n",
    "    for valid, y_valid in iter(loader):\n",
    "        if gpu:\n",
    "            valid, y_valid = valid.to('cuda'), y_valid.to('cuda')\n",
    "        output = model.forward(valid)\n",
    "        _, preds = torch.max(output,1)\n",
    "        valid_loss += criterion(output, y_valid).item()*valid.size(0)\n",
    "        valid_correct += torch.sum(preds == y_valid.data)\n",
    "    \n",
    "    epoch_loss = valid_loss / len(loader)\n",
    "    epoch_acc = valid_correct.double() / len(loader)/4\n",
    "    \n",
    "    return epoch_loss, epoch_acc"
   ]
  },
  {
   "cell_type": "code",
   "execution_count": 10,
   "metadata": {},
   "outputs": [],
   "source": [
    "#define test function\n",
    "def test (model, loader, criterion, gpu):\n",
    "    model.eval()\n",
    "    valid_loss = 0\n",
    "    valid_correct = 0\n",
    "    i=0\n",
    "    pred=torch.zeros(len(loader))\n",
    "    for test, y_train in iter(loader):\n",
    "        if gpu:\n",
    "            test = test.to('cuda')\n",
    "        output = model.forward(test)\n",
    "        _, preds = torch.max(output,1)\n",
    "        pred[i]=preds\n",
    "        i=i+1    \n",
    "    return pred"
   ]
  },
  {
   "cell_type": "code",
   "execution_count": 11,
   "metadata": {
    "scrolled": false
   },
   "outputs": [
    {
     "name": "stdout",
     "output_type": "stream",
     "text": [
      "1\n",
      "Epoch: 1 Train Loss : 4.7283  Train Accuracy: 0.6118\n",
      "Epoch: 1 Validation Loss : 1.1335  Validation Accuracy 0.9297\n",
      "2\n",
      "Epoch: 2 Train Loss : 1.4933  Train Accuracy: 0.9107\n",
      "Epoch: 2 Validation Loss : 0.8274  Validation Accuracy 0.9507\n",
      "3\n",
      "Epoch: 3 Train Loss : 0.9595  Train Accuracy: 0.9436\n",
      "Epoch: 3 Validation Loss : 0.6536  Validation Accuracy 0.9565\n",
      "4\n",
      "Epoch: 4 Train Loss : 0.6775  Train Accuracy: 0.9588\n",
      "Epoch: 4 Validation Loss : 0.6326  Validation Accuracy 0.9625\n",
      "5\n",
      "Epoch: 5 Train Loss : 0.5116  Train Accuracy: 0.9689\n",
      "Epoch: 5 Validation Loss : 0.8861  Validation Accuracy 0.9480\n",
      "6\n",
      "Epoch: 6 Train Loss : 0.4230  Train Accuracy: 0.9733\n",
      "Epoch: 6 Validation Loss : 0.5768  Validation Accuracy 0.9673\n",
      "7\n",
      "Epoch: 7 Train Loss : 0.3487  Train Accuracy: 0.9796\n",
      "Epoch: 7 Validation Loss : 0.6911  Validation Accuracy 0.9633\n",
      "8\n",
      "Epoch: 8 Train Loss : 0.2841  Train Accuracy: 0.9828\n",
      "Epoch: 8 Validation Loss : 0.5448  Validation Accuracy 0.9630\n",
      "9\n",
      "Epoch: 9 Train Loss : 0.2604  Train Accuracy: 0.9850\n",
      "Epoch: 9 Validation Loss : 0.5930  Validation Accuracy 0.9673\n",
      "10\n",
      "Epoch: 10 Train Loss : 0.2195  Train Accuracy: 0.9874\n",
      "Epoch: 10 Validation Loss : 0.6800  Validation Accuracy 0.9643\n",
      "11\n",
      "Epoch: 11 Train Loss : 0.1825  Train Accuracy: 0.9899\n",
      "Epoch: 11 Validation Loss : 0.6470  Validation Accuracy 0.9688\n",
      "12\n",
      "Epoch: 12 Train Loss : 0.1485  Train Accuracy: 0.9913\n",
      "Epoch: 12 Validation Loss : 0.6815  Validation Accuracy 0.9688\n",
      "13\n",
      "Epoch: 13 Train Loss : 0.1597  Train Accuracy: 0.9904\n",
      "Epoch: 13 Validation Loss : 0.7378  Validation Accuracy 0.9677\n",
      "14\n",
      "Epoch: 14 Train Loss : 0.1256  Train Accuracy: 0.9924\n",
      "Epoch: 14 Validation Loss : 0.7687  Validation Accuracy 0.9650\n",
      "15\n",
      "Epoch: 15 Train Loss : 0.1065  Train Accuracy: 0.9939\n",
      "Epoch: 15 Validation Loss : 0.7181  Validation Accuracy 0.9673\n",
      "16\n",
      "Epoch: 16 Train Loss : 0.0966  Train Accuracy: 0.9941\n",
      "Epoch: 16 Validation Loss : 0.6840  Validation Accuracy 0.9688\n",
      "17\n",
      "Epoch: 17 Train Loss : 0.0706  Train Accuracy: 0.9956\n",
      "Epoch: 17 Validation Loss : 0.8313  Validation Accuracy 0.9660\n",
      "18\n",
      "Epoch: 18 Train Loss : 0.0919  Train Accuracy: 0.9947\n",
      "Epoch: 18 Validation Loss : 0.7829  Validation Accuracy 0.9685\n",
      "19\n",
      "Epoch: 19 Train Loss : 0.1009  Train Accuracy: 0.9937\n",
      "Epoch: 19 Validation Loss : 0.8491  Validation Accuracy 0.9620\n",
      "20\n",
      "Epoch: 20 Train Loss : 0.0843  Train Accuracy: 0.9948\n",
      "Epoch: 20 Validation Loss : 0.5868  Validation Accuracy 0.9720\n"
     ]
    }
   ],
   "source": [
    "# training\n",
    "#send model to gpu. If not send it to GPU, delete next line.\n",
    "from torch.nn import DataParallel\n",
    "model.to('cuda')\n",
    "#model= torch.nn.DataParallel(model)\n",
    "#Initialize training params  \n",
    "#freeze gradient parameters in pretrained model\n",
    "for param in model.parameters():\n",
    "    param.require_grad = False\n",
    "# define number of epochs\n",
    "epochs = 20\n",
    "epoch = 0\n",
    "\n",
    "for e in range(epochs):\n",
    "    epoch +=1\n",
    "    print(epoch)\n",
    "#train:    \n",
    "    with torch.set_grad_enabled(True):\n",
    "        epoch_train_loss, epoch_train_acc = train(model,trainloader, criteria, 1)\n",
    "    print(\"Epoch: {} Train Loss : {:.4f}  Train Accuracy: {:.4f}\".format(epoch,epoch_train_loss,epoch_train_acc))\n",
    "#Valid, Activate next code when validation result is needed:\n",
    "    with torch.no_grad():\n",
    "        epoch_val_loss, epoch_val_acc = validation(model, validloader, criteria, 1)\n",
    "    print(\"Epoch: {} Validation Loss : {:.4f}  Validation Accuracy {:.4f}\".format(epoch,epoch_val_loss,epoch_val_acc))"
   ]
  },
  {
   "cell_type": "code",
   "execution_count": 12,
   "metadata": {},
   "outputs": [
    {
     "data": {
      "text/plain": [
       "array([7., 1., 6., ..., 7., 7., 9.], dtype=float32)"
      ]
     },
     "execution_count": 12,
     "metadata": {},
     "output_type": "execute_result"
    }
   ],
   "source": [
    "#get prediction result for test data\n",
    "predict=test(model,testloader, criteria, 1)\n",
    "predict.numpy()"
   ]
  },
  {
   "cell_type": "code",
   "execution_count": null,
   "metadata": {},
   "outputs": [],
   "source": []
  },
  {
   "cell_type": "code",
   "execution_count": 13,
   "metadata": {},
   "outputs": [],
   "source": [
    "#Save predict result to test file. Note the output file just have category column right now.\n",
    "#To submit it, one column named id need to be added to the excel file.\n",
    "import numpy\n",
    "numpy.savetxt(\"test.csv\", predict, delimiter=\",\")"
   ]
  },
  {
   "cell_type": "code",
   "execution_count": null,
   "metadata": {},
   "outputs": [],
   "source": []
  }
 ],
 "metadata": {
  "kernelspec": {
   "display_name": "Python 3",
   "language": "python",
   "name": "python3"
  },
  "language_info": {
   "codemirror_mode": {
    "name": "ipython",
    "version": 3
   },
   "file_extension": ".py",
   "mimetype": "text/x-python",
   "name": "python",
   "nbconvert_exporter": "python",
   "pygments_lexer": "ipython3",
   "version": "3.7.1"
  }
 },
 "nbformat": 4,
 "nbformat_minor": 2
}
