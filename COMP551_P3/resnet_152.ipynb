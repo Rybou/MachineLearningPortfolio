{
  "nbformat": 4,
  "nbformat_minor": 0,
  "metadata": {
    "colab": {
      "name": "resnet_152.ipynb",
      "version": "0.3.2",
      "provenance": [],
      "collapsed_sections": []
    },
    "kernelspec": {
      "name": "python3",
      "display_name": "Python 3"
    },
    "accelerator": "GPU"
  },
  "cells": [
    {
      "metadata": {
        "id": "4OWAmwwv3pc8",
        "colab_type": "text"
      },
      "cell_type": "markdown",
      "source": [
        "# COMP551: Project 3"
      ]
    },
    {
      "metadata": {
        "id": "7EpZIeXi3hiz",
        "colab_type": "text"
      },
      "cell_type": "markdown",
      "source": [
        "#### Group 47\n",
        "#### Authors : Ying Sun, Said Khalifef & Boury Mbodj\n",
        "#### Date : March 16th 2019\n",
        "#### Subject: The given file contains the implementation of a resnet152  supervised classification model using Pytorch. "
      ]
    },
    {
      "metadata": {
        "id": "an4jb3M2o0iZ",
        "colab_type": "code",
        "colab": {}
      },
      "cell_type": "code",
      "source": [
        "import pandas as pd\n",
        "import torch\n",
        "import torchvision\n",
        "import torchvision.transforms as transforms\n",
        "import numpy as np\n",
        "from torch.utils.data import DataLoader, Dataset, TensorDataset"
      ],
      "execution_count": 0,
      "outputs": []
    },
    {
      "metadata": {
        "id": "eJo-aFMiufRA",
        "colab_type": "code",
        "colab": {
          "base_uri": "https://localhost:8080/",
          "height": 54
        },
        "outputId": "689ef15e-09ed-4e1e-a1ca-5d77957e6873"
      },
      "cell_type": "code",
      "source": [
        "# Load the Drive helper and mount\n",
        "from google.colab import drive\n",
        "\n",
        "# This will prompt for authorization.\n",
        "drive.mount('/content/drive')"
      ],
      "execution_count": 25,
      "outputs": [
        {
          "output_type": "stream",
          "text": [
            "Drive already mounted at /content/drive; to attempt to forcibly remount, call drive.mount(\"/content/drive\", force_remount=True).\n"
          ],
          "name": "stdout"
        }
      ]
    },
    {
      "metadata": {
        "id": "jFdi_HhFuy7W",
        "colab_type": "code",
        "colab": {
          "base_uri": "https://localhost:8080/",
          "height": 68
        },
        "outputId": "178b7240-49cf-49df-c429-bf5dde8ec906"
      },
      "cell_type": "code",
      "source": [
        "# After executing the cell above, Drive\n",
        "# files will be present in \"/content/drive/My Drive\".\n",
        "!ls \"/content/drive/My Drive/COMP551P3/comp-551-w2019-project-3-modified-mnist\""
      ],
      "execution_count": 26,
      "outputs": [
        {
          "output_type": "stream",
          "text": [
            "Model\t\tP3trial4.ipynb\t      sample_submission.csv  train_images.pkl\n",
            "P3resnet.ipynb\tProject3_model.ipynb  solution_final3.csv    train_labels.csv\n",
            "P3trial2.ipynb\tProject3_model.py     test_images.pkl\t     Untitled.ipynb\n"
          ],
          "name": "stdout"
        }
      ]
    },
    {
      "metadata": {
        "id": "7XBd4yUW9fNV",
        "colab_type": "code",
        "colab": {}
      },
      "cell_type": "code",
      "source": [
        "f=open(\"/content/drive/My Drive/COMP551P3/comp-551-w2019-project-3-modified-mnist/train_images.pkl\",\"rb\")\n",
        "f1=open(\"/content/drive/My Drive/COMP551P3/comp-551-w2019-project-3-modified-mnist/train_labels.csv\",\"rb\")\n",
        "f2=open(\"/content/drive/My Drive/COMP551P3/comp-551-w2019-project-3-modified-mnist/test_images.pkl\",\"rb\")"
      ],
      "execution_count": 0,
      "outputs": []
    },
    {
      "metadata": {
        "id": "pYAd2_qtvypy",
        "colab_type": "code",
        "colab": {}
      },
      "cell_type": "code",
      "source": [
        "#read training data through pandas\n",
        "x_train=pd.read_pickle(f)\n",
        "#normalize training data by toTensor and mean(0.5) and std(0.5). \n",
        "#Note that torchvision.transforms can be used. But I'm still not familiar with it...\n",
        "x_train=(x_train/255-0.5)*2\n",
        "#read training lable, the first column in y_train_r is id num, the second column is lable.\n",
        "y_train_r = pd.read_csv(f1)\n",
        "#tranfer numpy to tensor, in order to use gpu\n",
        "y_train=torch.tensor(y_train_r.values[:,1])\n",
        "#product train set.\n",
        "trainset=[np.zeros((64,64)),np.zeros(1)]\n",
        "for j in range(36000): #Note this part all data in train_images.pkl is load into trainset.\n",
        "    # If valid set is needed, 40000 can be modifoed as the required length of trainset\n",
        "    # Then do the same thing to validset, but the range need to be after trainset\n",
        "    trainset.append([x_train[j],y_train[j]])\n",
        "del trainset[0]\n",
        "del trainset[0]\n",
        "#copy 1 channel as 3 channels\n",
        "# Use validation set \n",
        "validset=[np.zeros((64,64)),np.zeros(1)]\n",
        "for j in range(40000): #Note this part all data in train_images.pkl is load into trainset.\n",
        "    # If valid set is needed, 40000 can be modifoed as the required length of trainset\n",
        "    # Then do the same thing to validset, but the range need to be after trainset\n",
        "    if (j>36000):\n",
        "       validset.append([x_train[j],y_train[j]])\n",
        "del validset[0]\n",
        "del validset[0]\n",
        "#copy 1 channel as 3 channels \n",
        "for i in range(len(trainset)):\n",
        "    trainset[i][0]=torch.tensor([np.array(trainset[i][0]),np.array(trainset[i][0]),np.array(trainset[i][0])])\n",
        "#Get trainloader\n",
        "trainloader = torch.utils.data.DataLoader(trainset, batch_size=4,\n",
        "                                          shuffle=True, num_workers=2)\n",
        "#copy 1 channel as 3 channels \n",
        "for i in range(len(validset)):\n",
        "    validset[i][0]=torch.tensor([np.array(validset[i][0]),np.array(validset[i][0]),np.array(validset[i][0])])\n",
        "#Get validloader\n",
        "validloader = torch.utils.data.DataLoader(validset, batch_size=4,\n",
        "                                          shuffle=False, num_workers=2)"
      ],
      "execution_count": 0,
      "outputs": []
    },
    {
      "metadata": {
        "id": "iW68L9wAO91m",
        "colab_type": "code",
        "colab": {}
      },
      "cell_type": "code",
      "source": [
        "# Preprocessing testset:\n",
        "x_test=pd.read_pickle(f2)\n",
        "x_test=(x_test/255-0.5)*2\n",
        "testset=[np.zeros((64,64)),np.zeros(1)]\n",
        "for j in range(len(x_test)):\n",
        "    testset.append([x_test[j],y_train[j]])\n",
        "del testset[0]\n",
        "del testset[0]\n",
        "for i in range(len(testset)):\n",
        "    testset[i][0]=torch.tensor([np.array(testset[i][0]),np.array(testset[i][0]),np.array(testset[i][0])])\n",
        "#preporcessing testloader\n",
        "testloader = torch.utils.data.DataLoader(testset, batch_size=1,\n",
        "                                          shuffle=False, num_workers=2)"
      ],
      "execution_count": 0,
      "outputs": []
    },
    {
      "metadata": {
        "id": "D68t0H0F9Ahr",
        "colab_type": "code",
        "colab": {
          "base_uri": "https://localhost:8080/",
          "height": 85
        },
        "outputId": "b562158d-9caf-4164-9106-c992b8aa807c"
      },
      "cell_type": "code",
      "source": [
        "print('[Train  and validation size]')\n",
        "print(' - Numpy Shape:', x_train.shape)\n",
        "print('[Test size]')\n",
        "print(' - Numpy Shape:', x_test.shape)\n",
        "\n",
        "\n"
      ],
      "execution_count": 30,
      "outputs": [
        {
          "output_type": "stream",
          "text": [
            "[Train  and validation size]\n",
            " - Numpy Shape: (40000, 64, 64)\n",
            "[Test size]\n",
            " - Numpy Shape: (10000, 64, 64)\n"
          ],
          "name": "stdout"
        }
      ]
    },
    {
      "metadata": {
        "id": "D8a3S-TdO-te",
        "colab_type": "code",
        "colab": {
          "base_uri": "https://localhost:8080/",
          "height": 349
        },
        "outputId": "c209bf55-9516-415d-9182-cada30428380"
      },
      "cell_type": "code",
      "source": [
        "# function to show figures. This part has nothing to do with training.\n",
        "import matplotlib.pyplot as plt\n",
        "import numpy as np\n",
        "plt.imshow(x_test[100])\n",
        "plt.show()"
      ],
      "execution_count": 31,
      "outputs": [
        {
          "output_type": "display_data",
          "data": {
            "image/png": "[encoded data removed]",
            "text/plain": [
              "<Figure size 576x396 with 1 Axes>"
            ]
          },
          "metadata": {
            "tags": []
          }
        }
      ]
    },
    {
      "metadata": {
        "id": "UZ-CJNOJPRgI",
        "colab_type": "code",
        "colab": {
          "base_uri": "https://localhost:8080/",
          "height": 71
        },
        "outputId": "b8f46108-a5f5-41dc-e3a5-dedb5027d81c"
      },
      "cell_type": "code",
      "source": [
        "#*********************************************************************\n",
        "# model part\n",
        "import torchvision.models as models\n",
        "# use pretrained model:\n",
        "model = models.resnet152(pretrained=True)\n",
        "#import OrderedDicted to corectly align the network layers\n",
        "#import nn to modify features\n",
        "from collections import OrderedDict\n",
        "from torch import nn\n",
        "#Modify features\n",
        "num_ftrs = model.fc.in_features\n",
        "model.fc = nn.Linear(num_ftrs, 10)"
      ],
      "execution_count": 37,
      "outputs": [
        {
          "output_type": "stream",
          "text": [
            "Downloading: \"https://download.pytorch.org/models/resnet152-b121ed2d.pth\" to /root/.torch/models/resnet152-b121ed2d.pth\n",
            "241530880it [00:08, 29237129.50it/s]\n"
          ],
          "name": "stderr"
        }
      ]
    },
    {
      "metadata": {
        "id": "FNJMkhfKPSAI",
        "colab_type": "code",
        "colab": {}
      },
      "cell_type": "code",
      "source": [
        "#import optimizer:\n",
        "from torch import optim\n",
        "#define criteria and optimizer\n",
        "# Note that other losses or optimizers can also be tried\n",
        "criteria = nn.CrossEntropyLoss()\n",
        "optimizer = optim.SGD(model.parameters(), lr = 0.0003, momentum=0.9)"
      ],
      "execution_count": 0,
      "outputs": []
    },
    {
      "metadata": {
        "id": "gSumLrfaPZZ6",
        "colab_type": "code",
        "colab": {}
      },
      "cell_type": "code",
      "source": [
        "#train model\n",
        "#define training function\n",
        "def train (model, loader, criterion, gpu):\n",
        "    model.train()\n",
        "    current_loss = 0\n",
        "    current_correct = 0\n",
        "    for train, y_train in iter(loader):\n",
        "        if gpu:\n",
        "            train, y_train = train.to('cuda'), y_train.to('cuda')\n",
        "        optimizer.zero_grad()\n",
        "        output = model.forward(train)\n",
        "        _, preds = torch.max(output,1)\n",
        "        loss = criterion(output, y_train)\n",
        "        loss.backward()\n",
        "        optimizer.step()\n",
        "        current_loss += loss.item()*train.size(0)\n",
        "        current_correct += torch.sum(preds == y_train.data)\n",
        "        #check if the training is correct: print(preds,y_train,current_correct,current_loss)\n",
        "    epoch_loss = current_loss / len(loader)\n",
        "    # devide 4 because we read 4 data everytime\n",
        "    epoch_acc = current_correct.double() / len(loader)/4\n",
        "        \n",
        "    return epoch_loss, epoch_acc"
      ],
      "execution_count": 0,
      "outputs": []
    },
    {
      "metadata": {
        "id": "KVd48zETPc3V",
        "colab_type": "code",
        "colab": {}
      },
      "cell_type": "code",
      "source": [
        "#define validation function\n",
        "def validation (model, loader, criterion, gpu):\n",
        "    model.eval()\n",
        "    valid_loss = 0\n",
        "    valid_correct = 0\n",
        "    #I added this\n",
        "    pred=torch.zeros(len(loader))\n",
        "    for valid, y_valid in iter(loader):\n",
        "        if gpu:\n",
        "            valid, y_valid = valid.to('cuda'), y_valid.to('cuda')\n",
        "        output = model.forward(valid)\n",
        "        _, preds = torch.max(output,1)\n",
        "        valid_loss += criterion(output, y_valid).item()*valid.size(0)\n",
        "        valid_correct += torch.sum(preds == y_valid.data)\n",
        "    \n",
        "    epoch_loss = valid_loss / len(loader)\n",
        "    epoch_acc = valid_correct.double() / len(loader)/4\n",
        "    \n",
        "    return epoch_loss, epoch_acc"
      ],
      "execution_count": 0,
      "outputs": []
    },
    {
      "metadata": {
        "id": "PeVn5a0vPhJW",
        "colab_type": "code",
        "colab": {}
      },
      "cell_type": "code",
      "source": [
        "#define test function\n",
        "def test (model, loader, criterion, gpu):\n",
        "    model.eval()\n",
        "    valid_loss = 0\n",
        "    valid_correct = 0\n",
        "    i=0\n",
        "    pred=torch.zeros(len(loader))\n",
        "    for test, y_train in iter(loader):\n",
        "        if gpu:\n",
        "            test = test.to('cuda')\n",
        "        output = model.forward(test)\n",
        "        _, preds = torch.max(output,1)\n",
        "        pred[i]=preds\n",
        "        i=i+1    \n",
        "    return pred"
      ],
      "execution_count": 0,
      "outputs": []
    },
    {
      "metadata": {
        "id": "zgXlX7GTPmqb",
        "colab_type": "code",
        "colab": {
          "base_uri": "https://localhost:8080/",
          "height": 527
        },
        "outputId": "746dcfce-9258-45f7-b4e9-ec3633809898"
      },
      "cell_type": "code",
      "source": [
        "# training\n",
        "#send model to gpu. If not send it to GPU, delete next line.\n",
        "model.to('cuda')\n",
        "train_losses =[]\n",
        "train_acc =[]\n",
        "valid_losses=[]\n",
        "valid_acc =[]\n",
        "#Initialize training params  \n",
        "#freeze gradient parameters in pretrained model\n",
        "for param in model.parameters():\n",
        "    param.require_grad = False\n",
        "# define number of epochs\n",
        "epochs = 10\n",
        "epoch = 0\n",
        "\n",
        "for e in range(epochs):\n",
        "    epoch +=1\n",
        "    print(epoch)\n",
        "#train:    \n",
        "    with torch.set_grad_enabled(True):\n",
        "        epoch_train_loss, epoch_train_acc = train(model,trainloader, criteria, 1)\n",
        "        train_losses.append(epoch_train_loss)\n",
        "        train_acc.append(epoch_train_acc)\n",
        "    print(\"Epoch: {} Train Loss : {:.4f}  Train Accuracy: {:.4f}\".format(epoch,epoch_train_loss,epoch_train_acc))\n",
        "    \n",
        "#Valid, Activate next code when validation result is needed:\n",
        "    with torch.no_grad():\n",
        "        epoch_val_loss, epoch_val_acc = validation(model, validloader, criteria, 1)\n",
        "        valid_losses.append(epoch_val_loss)\n",
        "        valid_acc.append(epoch_val_acc)\n",
        "    print(\"Epoch: {} Validation Loss : {:.4f}  Validation Accuracy {:.4f}\".format(epoch,epoch_val_loss,epoch_val_acc))"
      ],
      "execution_count": 42,
      "outputs": [
        {
          "output_type": "stream",
          "text": [
            "1\n",
            "Epoch: 1 Train Loss : 4.1353  Train Accuracy: 0.6663\n",
            "Epoch: 1 Validation Loss : 1.2980  Validation Accuracy 0.9093\n",
            "2\n",
            "Epoch: 2 Train Loss : 1.4624  Train Accuracy: 0.8958\n",
            "Epoch: 2 Validation Loss : 1.1763  Validation Accuracy 0.9155\n",
            "3\n",
            "Epoch: 3 Train Loss : 0.8933  Train Accuracy: 0.9351\n",
            "Epoch: 3 Validation Loss : 0.9932  Validation Accuracy 0.9330\n",
            "4\n",
            "Epoch: 4 Train Loss : 0.6190  Train Accuracy: 0.9531\n",
            "Epoch: 4 Validation Loss : 1.0041  Validation Accuracy 0.9233\n",
            "5\n",
            "Epoch: 5 Train Loss : 0.4522  Train Accuracy: 0.9670\n",
            "Epoch: 5 Validation Loss : 0.8798  Validation Accuracy 0.9317\n",
            "6\n",
            "Epoch: 6 Train Loss : 0.3386  Train Accuracy: 0.9753\n",
            "Epoch: 6 Validation Loss : 0.8741  Validation Accuracy 0.9400\n",
            "7\n",
            "Epoch: 7 Train Loss : 0.2832  Train Accuracy: 0.9792\n",
            "Epoch: 7 Validation Loss : 0.7991  Validation Accuracy 0.9383\n",
            "8\n",
            "Epoch: 8 Train Loss : 0.2304  Train Accuracy: 0.9828\n",
            "Epoch: 8 Validation Loss : 0.9412  Validation Accuracy 0.9290\n",
            "9\n",
            "Epoch: 9 Train Loss : 0.2082  Train Accuracy: 0.9847\n",
            "Epoch: 9 Validation Loss : 0.9622  Validation Accuracy 0.9357\n",
            "10\n",
            "Epoch: 10 Train Loss : 0.1759  Train Accuracy: 0.9868\n",
            "Epoch: 10 Validation Loss : 0.7892  Validation Accuracy 0.9463\n"
          ],
          "name": "stdout"
        }
      ]
    },
    {
      "metadata": {
        "id": "m55HUEJOOAzb",
        "colab_type": "code",
        "colab": {
          "base_uri": "https://localhost:8080/",
          "height": 364
        },
        "outputId": "1fe362bd-c269-4ad3-e388-ca75af4d349a"
      },
      "cell_type": "code",
      "source": [
        "#Plot training and validation losses\n",
        "plt.plot(train_losses, label='Training loss')\n",
        "plt.plot(valid_losses, label='Validation loss')\n",
        "plt.legend()"
      ],
      "execution_count": 43,
      "outputs": [
        {
          "output_type": "execute_result",
          "data": {
            "text/plain": [
              "<matplotlib.legend.Legend at 0x7ff0009378d0>"
            ]
          },
          "metadata": {
            "tags": []
          },
          "execution_count": 43
        },
        {
          "output_type": "display_data",
          "data": {
            "image/png": "[encoded data removed]",
            "text/plain": [
              "<Figure size 576x396 with 1 Axes>"
            ]
          },
          "metadata": {
            "tags": []
          }
        }
      ]
    },
    {
      "metadata": {
        "id": "Ieym9VY0TI-_",
        "colab_type": "code",
        "colab": {
          "base_uri": "https://localhost:8080/",
          "height": 366
        },
        "outputId": "798f1579-1324-4993-e83d-12221bb82a67"
      },
      "cell_type": "code",
      "source": [
        "#Plot training and validation accuracy\n",
        "plt.plot(train_acc, label='Training accuracy')\n",
        "plt.plot(valid_acc, label='Validation accuracy')\n",
        "plt.legend()"
      ],
      "execution_count": 44,
      "outputs": [
        {
          "output_type": "execute_result",
          "data": {
            "text/plain": [
              "<matplotlib.legend.Legend at 0x7ff00094e7f0>"
            ]
          },
          "metadata": {
            "tags": []
          },
          "execution_count": 44
        },
        {
          "output_type": "display_data",
          "data": {
            "image/png": "[encoded data removed]",
            "text/plain": [
              "<Figure size 576x396 with 1 Axes>"
            ]
          },
          "metadata": {
            "tags": []
          }
        }
      ]
    },
    {
      "metadata": {
        "id": "icl6jrEU0x9C",
        "colab_type": "code",
        "colab": {
          "base_uri": "https://localhost:8080/",
          "height": 372
        },
        "outputId": "cd59a427-920a-4f78-c4e1-2fd428b33ef3"
      },
      "cell_type": "code",
      "source": [
        "# for variety, lets use altair to do the plot\n",
        "import altair as alt\n",
        "\n",
        "# create a pandas dataframe for the loss\n",
        "df = pd.DataFrame({\n",
        "    'epoch': range(1, len(train_losses) + 1),\n",
        "    'train': train_losses,\n",
        "    'valid': valid_losses\n",
        "})\n",
        "\n",
        "# unpivot to have cols [epoch, dataset, loss]\n",
        "df = df.melt(id_vars=['epoch'],\n",
        "             value_vars=['train', 'valid'],\n",
        "             value_name='loss',\n",
        "             var_name='Dataset')\n",
        "\n",
        "# line plot with altair\n",
        "alt.Chart(df).mark_line(point=True)\\\n",
        "    .encode(x='epoch', y='loss', color='Dataset')\\\n",
        "    .interactive()"
      ],
      "execution_count": 45,
      "outputs": [
        {
          "output_type": "execute_result",
          "data": {
            "text/plain": [
              "Chart({\n",
              "  data:     epoch Dataset      loss\n",
              "  0       1   train  4.135317\n",
              "  1       2   train  1.462358\n",
              "  2       3   train  0.893295\n",
              "  3       4   train  0.618977\n",
              "  4       5   train  0.452245\n",
              "  5       6   train  0.338568\n",
              "  6       7   train  0.283170\n",
              "  7       8   train  0.230447\n",
              "  8       9   train  0.208163\n",
              "  9      10   train  0.175852\n",
              "  10      1   valid  1.298004\n",
              "  11      2   valid  1.176331\n",
              "  12      3   valid  0.993202\n",
              "  13      4   valid  1.004134\n",
              "  14      5   valid  0.879810\n",
              "  15      6   valid  0.874138\n",
              "  16      7   valid  0.799124\n",
              "  17      8   valid  0.941175\n",
              "  18      9   valid  0.962242\n",
              "  19     10   valid  0.789201,\n",
              "  encoding: EncodingWithFacet({\n",
              "    color: Color({\n",
              "      shorthand: 'Dataset'\n",
              "    }),\n",
              "    x: X({\n",
              "      shorthand: 'epoch'\n",
              "    }),\n",
              "    y: Y({\n",
              "      shorthand: 'loss'\n",
              "    })\n",
              "  }),\n",
              "  mark: MarkDef({\n",
              "    point: True,\n",
              "    type: 'line'\n",
              "  }),\n",
              "  selection: SelectionMapping({\n",
              "    selector001: SelectionDef({\n",
              "      bind: 'scales',\n",
              "      encodings: ['x', 'y'],\n",
              "      type: 'interval'\n",
              "    })\n",
              "  })\n",
              "})"
            ],
            "text/html": [
              "<!DOCTYPE html>\n",
              "<html>\n",
              "<head>\n",
              "  <style>\n",
              "    .vega-actions a {\n",
              "        margin-right: 12px;\n",
              "        color: #757575;\n",
              "        font-weight: normal;\n",
              "        font-size: 13px;\n",
              "    }\n",
              "    .error {\n",
              "        color: red;\n",
              "    }\n",
              "  </style>\n",
              "  <script type=\"text/javascript\" src=\"https://cdn.jsdelivr.net/npm//vega@4\"></script>\n",
              "  <script type=\"text/javascript\" src=\"https://cdn.jsdelivr.net/npm//vega-lite@2.6.0\"></script>\n",
              "  <script type=\"text/javascript\" src=\"https://cdn.jsdelivr.net/npm//vega-embed@3\"></script>\n",
              "</head>\n",
              "<body>\n",
              "  <div id=\"altair-viz\"></div>\n",
              "  <script>\n",
              "      var spec = {\"config\": {\"view\": {\"width\": 400, \"height\": 300}}, \"data\": {\"name\": \"data-fb75c504f10edd79fac59f0185f2df7a\"}, \"mark\": {\"type\": \"line\", \"point\": true}, \"encoding\": {\"color\": {\"type\": \"nominal\", \"field\": \"Dataset\"}, \"x\": {\"type\": \"quantitative\", \"field\": \"epoch\"}, \"y\": {\"type\": \"quantitative\", \"field\": \"loss\"}}, \"selection\": {\"selector001\": {\"type\": \"interval\", \"bind\": \"scales\", \"encodings\": [\"x\", \"y\"]}}, \"$schema\": \"https://vega.github.io/schema/vega-lite/v2.6.0.json\", \"datasets\": {\"data-fb75c504f10edd79fac59f0185f2df7a\": [{\"epoch\": 1, \"Dataset\": \"train\", \"loss\": 4.135317141267988}, {\"epoch\": 2, \"Dataset\": \"train\", \"loss\": 1.4623581634627447}, {\"epoch\": 3, \"Dataset\": \"train\", \"loss\": 0.8932954808208677}, {\"epoch\": 4, \"Dataset\": \"train\", \"loss\": 0.6189771056572596}, {\"epoch\": 5, \"Dataset\": \"train\", \"loss\": 0.45224450192186566}, {\"epoch\": 6, \"Dataset\": \"train\", \"loss\": 0.33856751631365883}, {\"epoch\": 7, \"Dataset\": \"train\", \"loss\": 0.28317041623592376}, {\"epoch\": 8, \"Dataset\": \"train\", \"loss\": 0.23044679865572187}, {\"epoch\": 9, \"Dataset\": \"train\", \"loss\": 0.20816280319955613}, {\"epoch\": 10, \"Dataset\": \"train\", \"loss\": 0.1758516881465912}, {\"epoch\": 1, \"Dataset\": \"valid\", \"loss\": 1.298004477262497}, {\"epoch\": 2, \"Dataset\": \"valid\", \"loss\": 1.1763306064605712}, {\"epoch\": 3, \"Dataset\": \"valid\", \"loss\": 0.9932017440795898}, {\"epoch\": 4, \"Dataset\": \"valid\", \"loss\": 1.004133710861206}, {\"epoch\": 5, \"Dataset\": \"valid\", \"loss\": 0.8798100038766861}, {\"epoch\": 6, \"Dataset\": \"valid\", \"loss\": 0.8741377935409546}, {\"epoch\": 7, \"Dataset\": \"valid\", \"loss\": 0.7991236255168915}, {\"epoch\": 8, \"Dataset\": \"valid\", \"loss\": 0.9411746203899384}, {\"epoch\": 9, \"Dataset\": \"valid\", \"loss\": 0.9622420257329941}, {\"epoch\": 10, \"Dataset\": \"valid\", \"loss\": 0.7892006753683091}]}};\n",
              "      var embedOpt = {\"mode\": \"vega-lite\"};\n",
              "\n",
              "      function showError(el, error){\n",
              "          el.innerHTML = ('<div class=\"error\" style=\"color:red;\">'\n",
              "                          + '<p>JavaScript Error: ' + error.message + '</p>'\n",
              "                          + \"<p>This usually means there's a typo in your chart specification. \"\n",
              "                          + \"See the javascript console for the full traceback.</p>\"\n",
              "                          + '</div>');\n",
              "          throw error;\n",
              "      }\n",
              "      const el = document.getElementById('altair-viz');\n",
              "      vegaEmbed(\"#altair-viz\", spec, embedOpt)\n",
              "        .catch(error => showError(el, error));\n",
              "\n",
              "  </script>\n",
              "</body>\n",
              "</html>"
            ]
          },
          "metadata": {
            "tags": []
          },
          "execution_count": 45
        }
      ]
    },
    {
      "metadata": {
        "id": "ZGKyPYmXPpp3",
        "colab_type": "code",
        "colab": {}
      },
      "cell_type": "code",
      "source": [
        "#get prediction result for test data\n",
        "predict=test(model,testloader, criteria, 1)\n",
        "result=predict.numpy()"
      ],
      "execution_count": 0,
      "outputs": []
    },
    {
      "metadata": {
        "id": "0ZuibQoXPuMK",
        "colab_type": "code",
        "colab": {}
      },
      "cell_type": "code",
      "source": [
        "#Save predict result to test file. Note the output file just have category column right now.\n",
        "#To submit it, one column named id need to be added to the excel file.\n",
        "import numpy\n",
        "numpy.savetxt(\"test.csv\", predict, delimiter=\",\")"
      ],
      "execution_count": 0,
      "outputs": []
    },
    {
      "metadata": {
        "id": "E96cFJQelsIx",
        "colab_type": "code",
        "colab": {}
      },
      "cell_type": "code",
      "source": [
        "# Put data in the appropriate format for kaggle submissiom\n",
        "submission = pd.DataFrame()"
      ],
      "execution_count": 0,
      "outputs": []
    },
    {
      "metadata": {
        "id": "LfIWQny2yjVh",
        "colab_type": "code",
        "colab": {}
      },
      "cell_type": "code",
      "source": [
        "a = result.astype(int)\n",
        "df1 = pd.DataFrame({'Id': a})"
      ],
      "execution_count": 0,
      "outputs": []
    },
    {
      "metadata": {
        "id": "QoBvDzEoyj5N",
        "colab_type": "code",
        "colab": {
          "base_uri": "https://localhost:8080/",
          "height": 204
        },
        "outputId": "892f0476-5b32-4f68-fd03-b102cd18630e"
      },
      "cell_type": "code",
      "source": [
        "submission['Id']=range(0, len(df1) )\n",
        "\n",
        "submission['Category']=a\n",
        "submission.head()"
      ],
      "execution_count": 51,
      "outputs": [
        {
          "output_type": "execute_result",
          "data": {
            "text/html": [
              "<div>\n",
              "<style scoped>\n",
              "    .dataframe tbody tr th:only-of-type {\n",
              "        vertical-align: middle;\n",
              "    }\n",
              "\n",
              "    .dataframe tbody tr th {\n",
              "        vertical-align: top;\n",
              "    }\n",
              "\n",
              "    .dataframe thead th {\n",
              "        text-align: right;\n",
              "    }\n",
              "</style>\n",
              "<table border=\"1\" class=\"dataframe\">\n",
              "  <thead>\n",
              "    <tr style=\"text-align: right;\">\n",
              "      <th></th>\n",
              "      <th>Id</th>\n",
              "      <th>Category</th>\n",
              "    </tr>\n",
              "  </thead>\n",
              "  <tbody>\n",
              "    <tr>\n",
              "      <th>0</th>\n",
              "      <td>0</td>\n",
              "      <td>7</td>\n",
              "    </tr>\n",
              "    <tr>\n",
              "      <th>1</th>\n",
              "      <td>1</td>\n",
              "      <td>1</td>\n",
              "    </tr>\n",
              "    <tr>\n",
              "      <th>2</th>\n",
              "      <td>2</td>\n",
              "      <td>6</td>\n",
              "    </tr>\n",
              "    <tr>\n",
              "      <th>3</th>\n",
              "      <td>3</td>\n",
              "      <td>1</td>\n",
              "    </tr>\n",
              "    <tr>\n",
              "      <th>4</th>\n",
              "      <td>4</td>\n",
              "      <td>8</td>\n",
              "    </tr>\n",
              "  </tbody>\n",
              "</table>\n",
              "</div>"
            ],
            "text/plain": [
              "   Id  Category\n",
              "0   0         7\n",
              "1   1         1\n",
              "2   2         6\n",
              "3   3         1\n",
              "4   4         8"
            ]
          },
          "metadata": {
            "tags": []
          },
          "execution_count": 51
        }
      ]
    },
    {
      "metadata": {
        "id": "XTqa6lNJpIBM",
        "colab_type": "code",
        "colab": {}
      },
      "cell_type": "code",
      "source": [
        "submission.to_csv('resnet_.csv', index=False)"
      ],
      "execution_count": 0,
      "outputs": []
    },
    {
      "metadata": {
        "id": "LVj0yPYlzjJn",
        "colab_type": "code",
        "colab": {}
      },
      "cell_type": "code",
      "source": [
        "from google.colab import files\n",
        "files.download('resnet_.csv') "
      ],
      "execution_count": 0,
      "outputs": []
    }
  ]
}