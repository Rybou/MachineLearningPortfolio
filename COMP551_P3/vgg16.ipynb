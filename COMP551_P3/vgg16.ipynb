{
  "nbformat": 4,
  "nbformat_minor": 0,
  "metadata": {
    "colab": {
      "name": "vgg16.ipynb",
      "version": "0.3.2",
      "provenance": [],
      "collapsed_sections": []
    },
    "kernelspec": {
      "display_name": "Python 3",
      "language": "python",
      "name": "python3"
    },
    "accelerator": "GPU"
  },
  "cells": [
    {
      "metadata": {
        "id": "r6HdN6hUrLs7",
        "colab_type": "text"
      },
      "cell_type": "markdown",
      "source": [
        "# COMP551: Project 3"
      ]
    },
    {
      "metadata": {
        "id": "8CXBD0H-rHk9",
        "colab_type": "text"
      },
      "cell_type": "markdown",
      "source": [
        "#### Group 47\n",
        "#### Authors : Ying Sun, Said Khalifef & Boury Mbodj\n",
        "#### Date : March 16th 2019\n",
        "#### Subject: The given file contains the implementation of a vgg16 supervised classification model using pytorch. "
      ]
    },
    {
      "metadata": {
        "colab_type": "code",
        "id": "an4jb3M2o0iZ",
        "colab": {}
      },
      "cell_type": "code",
      "source": [
        "import pandas as pd\n",
        "import torch\n",
        "import torchvision\n",
        "import torchvision.transforms as transforms\n",
        "import numpy as np\n",
        "from torch.utils.data import DataLoader, Dataset, TensorDataset"
      ],
      "execution_count": 0,
      "outputs": []
    },
    {
      "metadata": {
        "colab_type": "code",
        "id": "eJo-aFMiufRA",
        "outputId": "35210644-e392-4829-c0ce-e20c28b6c85f",
        "colab": {
          "base_uri": "https://localhost:8080/",
          "height": 54
        }
      },
      "cell_type": "code",
      "source": [
        "# Load the Drive helper and mount\n",
        "from google.colab import drive\n",
        "\n",
        "# This will prompt for authorization.\n",
        "drive.mount('/content/drive')"
      ],
      "execution_count": 0,
      "outputs": [
        {
          "output_type": "stream",
          "text": [
            "Drive already mounted at /content/drive; to attempt to forcibly remount, call drive.mount(\"/content/drive\", force_remount=True).\n"
          ],
          "name": "stdout"
        }
      ]
    },
    {
      "metadata": {
        "colab_type": "code",
        "id": "jFdi_HhFuy7W",
        "outputId": "b602abba-b01f-42f1-dea6-54e556238ece",
        "colab": {
          "base_uri": "https://localhost:8080/",
          "height": 85
        }
      },
      "cell_type": "code",
      "source": [
        "# After executing the cell above, Drive\n",
        "# files will be present in \"/content/drive/My Drive\".\n",
        "!ls \"/content/drive/My Drive/COMP551P3/comp-551-w2019-project-3-modified-mnist\""
      ],
      "execution_count": 0,
      "outputs": [
        {
          "output_type": "stream",
          "text": [
            "Model\t\tProject3_model.ipynb   test_images.pkl\t vgg19_bn.ipynb\n",
            "P3resnet.ipynb\tProject3_model.py      train_images.pkl\n",
            "P3trial2.ipynb\tsample_submission.csv  train_labels.csv\n",
            "P3trial4.ipynb\tsolution_final3.csv    Untitled.ipynb\n"
          ],
          "name": "stdout"
        }
      ]
    },
    {
      "metadata": {
        "colab_type": "code",
        "id": "7XBd4yUW9fNV",
        "colab": {}
      },
      "cell_type": "code",
      "source": [
        "f=open(\"/content/drive/My Drive/COMP551P3/comp-551-w2019-project-3-modified-mnist/train_images.pkl\",\"rb\")\n",
        "f1=open(\"/content/drive/My Drive/COMP551P3/comp-551-w2019-project-3-modified-mnist/train_labels.csv\",\"rb\")\n",
        "f2=open(\"/content/drive/My Drive/COMP551P3/comp-551-w2019-project-3-modified-mnist/test_images.pkl\",\"rb\")"
      ],
      "execution_count": 0,
      "outputs": []
    },
    {
      "metadata": {
        "colab_type": "code",
        "id": "pYAd2_qtvypy",
        "colab": {}
      },
      "cell_type": "code",
      "source": [
        "#read training data through pandas\n",
        "x_train=pd.read_pickle(f)\n",
        "#normalize training data by toTensor and mean(0.5) and std(0.5). \n",
        "#Note that torchvision.transforms can be used. But I'm still not familiar with it...\n",
        "x_train=(x_train/255-0.5)*2\n",
        "#read training lable, the first column in y_train_r is id num, the second column is lable.\n",
        "y_train_r = pd.read_csv(f1)\n",
        "#tranfer numpy to tensor, in order to use gpu\n",
        "y_train=torch.tensor(y_train_r.values[:,1])\n",
        "#product train set.\n",
        "trainset=[np.zeros((64,64)),np.zeros(1)]\n",
        "for j in range(36000): #Note this part all data in train_images.pkl is load into trainset.\n",
        "    # If valid set is needed, 40000 can be modifoed as the required length of trainset\n",
        "    # Then do the same thing to validset, but the range need to be after trainset\n",
        "    trainset.append([x_train[j],y_train[j]])\n",
        "del trainset[0]\n",
        "del trainset[0]\n",
        "#copy 1 channel as 3 channels\n",
        "# Use validation set \n",
        "validset=[np.zeros((64,64)),np.zeros(1)]\n",
        "for j in range(40000): #Note this part all data in train_images.pkl is load into trainset.\n",
        "    # If valid set is needed, 40000 can be modifoed as the required length of trainset\n",
        "    # Then do the same thing to validset, but the range need to be after trainset\n",
        "    if (j>36000):\n",
        "       validset.append([x_train[j],y_train[j]])\n",
        "del validset[0]\n",
        "del validset[0]\n",
        "#copy 1 channel as 3 channels \n",
        "for i in range(len(trainset)):\n",
        "    trainset[i][0]=torch.tensor([np.array(trainset[i][0]),np.array(trainset[i][0]),np.array(trainset[i][0])])\n",
        "#Get trainloader\n",
        "trainloader = torch.utils.data.DataLoader(trainset, batch_size=4,\n",
        "                                          shuffle=True, num_workers=2)\n",
        "#copy 1 channel as 3 channels \n",
        "for i in range(len(validset)):\n",
        "    validset[i][0]=torch.tensor([np.array(validset[i][0]),np.array(validset[i][0]),np.array(validset[i][0])])\n",
        "#Get validloader\n",
        "validloader = torch.utils.data.DataLoader(validset, batch_size=4,\n",
        "                                          shuffle=False, num_workers=2)"
      ],
      "execution_count": 0,
      "outputs": []
    },
    {
      "metadata": {
        "colab_type": "code",
        "id": "iW68L9wAO91m",
        "colab": {}
      },
      "cell_type": "code",
      "source": [
        "# Preprocessing testset:\n",
        "x_test=pd.read_pickle(f2)\n",
        "x_test=(x_test/255-0.5)*2\n",
        "testset=[np.zeros((64,64)),np.zeros(1)]\n",
        "for j in range(len(x_test)):\n",
        "    testset.append([x_test[j],y_train[j]])\n",
        "del testset[0]\n",
        "del testset[0]\n",
        "for i in range(len(testset)):\n",
        "    testset[i][0]=torch.tensor([np.array(testset[i][0]),np.array(testset[i][0]),np.array(testset[i][0])])\n",
        "#preporcessing testloader\n",
        "testloader = torch.utils.data.DataLoader(testset, batch_size=1,\n",
        "                                          shuffle=False, num_workers=2)"
      ],
      "execution_count": 0,
      "outputs": []
    },
    {
      "metadata": {
        "colab_type": "code",
        "id": "D68t0H0F9Ahr",
        "outputId": "884ddb25-6093-464c-c163-6cf40a2ac5d2",
        "colab": {
          "base_uri": "https://localhost:8080/",
          "height": 85
        }
      },
      "cell_type": "code",
      "source": [
        "print('[Train  and validation size]')\n",
        "print(' - Numpy Shape:', x_train.shape)\n",
        "print('[Test size]')\n",
        "print(' - Numpy Shape:', x_test.shape)\n",
        "\n",
        "\n"
      ],
      "execution_count": 0,
      "outputs": [
        {
          "output_type": "stream",
          "text": [
            "[Train  and validation size]\n",
            " - Numpy Shape: (40000, 64, 64)\n",
            "[Test size]\n",
            " - Numpy Shape: (10000, 64, 64)\n"
          ],
          "name": "stdout"
        }
      ]
    },
    {
      "metadata": {
        "colab_type": "code",
        "id": "D8a3S-TdO-te",
        "outputId": "0f9c7989-2fd6-4798-b0ea-1afe535f8759",
        "colab": {
          "base_uri": "https://localhost:8080/",
          "height": 349
        }
      },
      "cell_type": "code",
      "source": [
        "# function to show figures. This part has nothing to do with training.\n",
        "import matplotlib.pyplot as plt\n",
        "import numpy as np\n",
        "plt.imshow(x_test[100])\n",
        "plt.show()"
      ],
      "execution_count": 0,
      "outputs": [
        {
          "output_type": "display_data",
          "data": {
            "image/png": "[encoded data removed]",
            "text/plain": [
              "<Figure size 576x396 with 1 Axes>"
            ]
          },
          "metadata": {
            "tags": []
          }
        }
      ]
    },
    {
      "metadata": {
        "colab_type": "code",
        "id": "UZ-CJNOJPRgI",
        "outputId": "bb5f12ba-5f5e-454c-f5eb-a9264dcbae6c",
        "colab": {
          "base_uri": "https://localhost:8080/",
          "height": 51
        }
      },
      "cell_type": "code",
      "source": [
        "#*********************************************************************\n",
        "# model part\n",
        "import torchvision.models as models\n",
        "# use pretrained model:\n",
        "model = models.vgg16(pretrained = True)\n",
        "#import OrderedDicted to corectly align the network layers\n",
        "#import nn to modify features\n",
        "from collections import OrderedDict\n",
        "from torch import nn\n",
        "#create classifier which fit our num of outputs\n",
        "classifier= nn.Sequential(\n",
        "            nn.Dropout(p = 0.5),\n",
        "            nn.Linear(in_features=25088, out_features=512, bias=True),\n",
        "            nn.BatchNorm1d(512),\n",
        "            nn.ReLU(inplace=True),\n",
        "            nn.Dropout(p = 0.5),\n",
        "            nn.Linear(in_features=512, out_features=512, bias=True),\n",
        "            nn.BatchNorm1d(512),\n",
        "            nn.ReLU(inplace=True),\n",
        "            nn.Dropout(p = 0.4),\n",
        "            nn.Linear(512, 10),\n",
        "        )\n",
        "#replace the model's classifier with this new classifier \n",
        "model.classifier = classifier"
      ],
      "execution_count": 0,
      "outputs": [
        {
          "output_type": "stream",
          "text": [
            "Downloading: \"https://download.pytorch.org/models/vgg16-397923af.pth\" to /root/.torch/models/vgg16-397923af.pth\n",
            "553433881it [00:22, 24736982.37it/s]\n"
          ],
          "name": "stderr"
        }
      ]
    },
    {
      "metadata": {
        "colab_type": "code",
        "id": "FNJMkhfKPSAI",
        "colab": {}
      },
      "cell_type": "code",
      "source": [
        "#import optimizer:\n",
        "from torch import optim\n",
        "#define criteria and optimizer\n",
        "# Note that other losses or optimizers can also be tried\n",
        "criteria = nn.CrossEntropyLoss()\n",
        "optimizer = optim.SGD(model.parameters(), lr = 0.0003, momentum=0.9)"
      ],
      "execution_count": 0,
      "outputs": []
    },
    {
      "metadata": {
        "colab_type": "code",
        "id": "gSumLrfaPZZ6",
        "colab": {}
      },
      "cell_type": "code",
      "source": [
        "#train model\n",
        "#define training function\n",
        "def train (model, loader, criterion, gpu):\n",
        "    model.train()\n",
        "    current_loss = 0\n",
        "    current_correct = 0\n",
        "    for train, y_train in iter(loader):\n",
        "        if gpu:\n",
        "            train, y_train = train.to('cuda'), y_train.to('cuda')\n",
        "        optimizer.zero_grad()\n",
        "        output = model.forward(train)\n",
        "        _, preds = torch.max(output,1)\n",
        "        loss = criterion(output, y_train)\n",
        "        loss.backward()\n",
        "        optimizer.step()\n",
        "        current_loss += loss.item()*train.size(0)\n",
        "        current_correct += torch.sum(preds == y_train.data)\n",
        "        #check if the training is correct: print(preds,y_train,current_correct,current_loss)\n",
        "    epoch_loss = current_loss / len(loader)\n",
        "    # devide 4 because we read 4 data everytime\n",
        "    epoch_acc = current_correct.double() / len(loader)/4\n",
        "        \n",
        "    return epoch_loss, epoch_acc"
      ],
      "execution_count": 0,
      "outputs": []
    },
    {
      "metadata": {
        "colab_type": "code",
        "id": "KVd48zETPc3V",
        "colab": {}
      },
      "cell_type": "code",
      "source": [
        "#define validation function\n",
        "def validation (model, loader, criterion, gpu):\n",
        "    model.eval()\n",
        "    valid_loss = 0\n",
        "    valid_correct = 0\n",
        "    #I added this\n",
        "    pred=torch.zeros(len(loader))\n",
        "    for valid, y_valid in iter(loader):\n",
        "        if gpu:\n",
        "            valid, y_valid = valid.to('cuda'), y_valid.to('cuda')\n",
        "        output = model.forward(valid)\n",
        "        _, preds = torch.max(output,1)\n",
        "        valid_loss += criterion(output, y_valid).item()*valid.size(0)\n",
        "        valid_correct += torch.sum(preds == y_valid.data)\n",
        "    \n",
        "    epoch_loss = valid_loss / len(loader)\n",
        "    epoch_acc = valid_correct.double() / len(loader)/4\n",
        "    \n",
        "    return epoch_loss, epoch_acc"
      ],
      "execution_count": 0,
      "outputs": []
    },
    {
      "metadata": {
        "colab_type": "code",
        "id": "PeVn5a0vPhJW",
        "colab": {}
      },
      "cell_type": "code",
      "source": [
        "#define test function\n",
        "def test (model, loader, criterion, gpu):\n",
        "    model.eval()\n",
        "    valid_loss = 0\n",
        "    valid_correct = 0\n",
        "    i=0\n",
        "    pred=torch.zeros(len(loader))\n",
        "    for test, y_train in iter(loader):\n",
        "        if gpu:\n",
        "            test = test.to('cuda')\n",
        "        output = model.forward(test)\n",
        "        _, preds = torch.max(output,1)\n",
        "        pred[i]=preds\n",
        "        i=i+1    \n",
        "    return pred"
      ],
      "execution_count": 0,
      "outputs": []
    },
    {
      "metadata": {
        "colab_type": "code",
        "id": "zgXlX7GTPmqb",
        "outputId": "2c8734bc-2425-4d76-9ed1-e19b1e0c175b",
        "colab": {
          "base_uri": "https://localhost:8080/",
          "height": 833
        }
      },
      "cell_type": "code",
      "source": [
        "# training\n",
        "#send model to gpu. If not send it to GPU, delete next line.\n",
        "model.to('cuda')\n",
        "train_losses =[]\n",
        "train_acc =[]\n",
        "valid_losses=[]\n",
        "valid_acc =[]\n",
        "#Initialize training params  \n",
        "#freeze gradient parameters in pretrained model\n",
        "for param in model.parameters():\n",
        "    param.require_grad = False\n",
        "# define number of epochs\n",
        "epochs = 16 \n",
        "epoch = 0\n",
        "\n",
        "for e in range(epochs):\n",
        "    epoch +=1\n",
        "    print(epoch)\n",
        "#train:    \n",
        "    with torch.set_grad_enabled(True):\n",
        "        epoch_train_loss, epoch_train_acc = train(model,trainloader, criteria, 1)\n",
        "        train_losses.append(epoch_train_loss)\n",
        "        train_acc.append(epoch_train_acc)\n",
        "    print(\"Epoch: {} Train Loss : {:.4f}  Train Accuracy: {:.4f}\".format(epoch,epoch_train_loss,epoch_train_acc))\n",
        "    \n",
        "#Valid, Activate next code when validation result is needed:\n",
        "    with torch.no_grad():\n",
        "        epoch_val_loss, epoch_val_acc = validation(model, validloader, criteria, 1)\n",
        "        valid_losses.append(epoch_val_loss)\n",
        "        valid_acc.append(epoch_val_acc)\n",
        "    print(\"Epoch: {} Validation Loss : {:.4f}  Validation Accuracy {:.4f}\".format(epoch,epoch_val_loss,epoch_val_acc))"
      ],
      "execution_count": 14,
      "outputs": [
        {
          "output_type": "stream",
          "text": [
            "1\n",
            "Epoch: 1 Train Loss : 8.1799  Train Accuracy: 0.2437\n",
            "Epoch: 1 Validation Loss : 3.4209  Validation Accuracy 0.7460\n",
            "2\n",
            "Epoch: 2 Train Loss : 2.8490  Train Accuracy: 0.8072\n",
            "Epoch: 2 Validation Loss : 1.3136  Validation Accuracy 0.9138\n",
            "3\n",
            "Epoch: 3 Train Loss : 1.5891  Train Accuracy: 0.9019\n",
            "Epoch: 3 Validation Loss : 0.9042  Validation Accuracy 0.9307\n",
            "4\n",
            "Epoch: 4 Train Loss : 1.1779  Train Accuracy: 0.9296\n",
            "Epoch: 4 Validation Loss : 0.6953  Validation Accuracy 0.9485\n",
            "5\n",
            "Epoch: 5 Train Loss : 0.9174  Train Accuracy: 0.9459\n",
            "Epoch: 5 Validation Loss : 0.5778  Validation Accuracy 0.9610\n",
            "6\n",
            "Epoch: 6 Train Loss : 0.7540  Train Accuracy: 0.9549\n",
            "Epoch: 6 Validation Loss : 0.4593  Validation Accuracy 0.9663\n",
            "7\n",
            "Epoch: 7 Train Loss : 0.6043  Train Accuracy: 0.9641\n",
            "Epoch: 7 Validation Loss : 0.5099  Validation Accuracy 0.9605\n",
            "8\n",
            "Epoch: 8 Train Loss : 0.5402  Train Accuracy: 0.9676\n",
            "Epoch: 8 Validation Loss : 0.4971  Validation Accuracy 0.9665\n",
            "9\n",
            "Epoch: 9 Train Loss : 0.4438  Train Accuracy: 0.9746\n",
            "Epoch: 9 Validation Loss : 0.4665  Validation Accuracy 0.9673\n",
            "10\n",
            "Epoch: 10 Train Loss : 0.3707  Train Accuracy: 0.9780\n",
            "Epoch: 10 Validation Loss : 0.4604  Validation Accuracy 0.9677\n",
            "11\n",
            "Epoch: 11 Train Loss : 0.3432  Train Accuracy: 0.9804\n",
            "Epoch: 11 Validation Loss : 0.4642  Validation Accuracy 0.9700\n",
            "12\n",
            "Epoch: 12 Train Loss : 0.2829  Train Accuracy: 0.9836\n",
            "Epoch: 12 Validation Loss : 0.6083  Validation Accuracy 0.9637\n",
            "13\n",
            "Epoch: 13 Train Loss : 0.2674  Train Accuracy: 0.9851\n",
            "Epoch: 13 Validation Loss : 0.5632  Validation Accuracy 0.9683\n",
            "14\n",
            "Epoch: 14 Train Loss : 0.2869  Train Accuracy: 0.9832\n",
            "Epoch: 14 Validation Loss : 1.0745  Validation Accuracy 0.9395\n",
            "15\n",
            "Epoch: 15 Train Loss : 0.1996  Train Accuracy: 0.9885\n",
            "Epoch: 15 Validation Loss : 0.5333  Validation Accuracy 0.9695\n",
            "16\n",
            "Epoch: 16 Train Loss : 0.2035  Train Accuracy: 0.9888\n",
            "Epoch: 16 Validation Loss : 0.4793  Validation Accuracy 0.9708\n"
          ],
          "name": "stdout"
        }
      ]
    },
    {
      "metadata": {
        "colab_type": "code",
        "id": "m55HUEJOOAzb",
        "colab": {
          "base_uri": "https://localhost:8080/",
          "height": 364
        },
        "outputId": "65003ebc-52d0-43ec-d1fe-c813ef97d10c"
      },
      "cell_type": "code",
      "source": [
        "#Plot training and validation losses\n",
        "plt.plot(train_losses, label='Training loss')\n",
        "plt.plot(valid_losses, label='Validation loss')\n",
        "plt.legend()"
      ],
      "execution_count": 15,
      "outputs": [
        {
          "output_type": "execute_result",
          "data": {
            "text/plain": [
              "<matplotlib.legend.Legend at 0x7f011a7be6a0>"
            ]
          },
          "metadata": {
            "tags": []
          },
          "execution_count": 15
        },
        {
          "output_type": "display_data",
          "data": {
            "image/png": "[encoded data removed]",
            "text/plain": [
              "<Figure size 576x396 with 1 Axes>"
            ]
          },
          "metadata": {
            "tags": []
          }
        }
      ]
    },
    {
      "metadata": {
        "colab_type": "code",
        "id": "Ieym9VY0TI-_",
        "colab": {
          "base_uri": "https://localhost:8080/",
          "height": 364
        },
        "outputId": "0e56059f-d43c-4c61-c95b-bf7817d1d785"
      },
      "cell_type": "code",
      "source": [
        "#Plot training and validation accuracy\n",
        "plt.plot(train_acc, label='Training accuracy')\n",
        "plt.plot(valid_acc, label='Validation accuracy')\n",
        "plt.legend()"
      ],
      "execution_count": 16,
      "outputs": [
        {
          "output_type": "execute_result",
          "data": {
            "text/plain": [
              "<matplotlib.legend.Legend at 0x7f01172abb38>"
            ]
          },
          "metadata": {
            "tags": []
          },
          "execution_count": 16
        },
        {
          "output_type": "display_data",
          "data": {
            "image/png": "[encoded data removed]",
            "text/plain": [
              "<Figure size 576x396 with 1 Axes>"
            ]
          },
          "metadata": {
            "tags": []
          }
        }
      ]
    },
    {
      "metadata": {
        "colab_type": "code",
        "id": "icl6jrEU0x9C",
        "colab": {
          "base_uri": "https://localhost:8080/",
          "height": 372
        },
        "outputId": "2d00676a-1fb7-4821-ae73-8b67a01de08e"
      },
      "cell_type": "code",
      "source": [
        "# for variety, lets use altair to do the plot\n",
        "import altair as alt\n",
        "\n",
        "# create a pandas dataframe for the loss\n",
        "df = pd.DataFrame({\n",
        "    'epoch': range(1, len(train_losses) + 1),\n",
        "    'train': train_losses,\n",
        "    'valid': valid_losses\n",
        "})\n",
        "\n",
        "# unpivot to have cols [epoch, dataset, loss]\n",
        "df = df.melt(id_vars=['epoch'],\n",
        "             value_vars=['train', 'valid'],\n",
        "             value_name='loss',\n",
        "             var_name='Dataset')\n",
        "\n",
        "# line plot with altair\n",
        "alt.Chart(df).mark_line(point=True)\\\n",
        "    .encode(x='epoch', y='loss', color='Dataset')\\\n",
        "    .interactive()"
      ],
      "execution_count": 17,
      "outputs": [
        {
          "output_type": "execute_result",
          "data": {
            "text/plain": [
              "Chart({\n",
              "  data:     epoch Dataset      loss\n",
              "  0       1   train  8.179914\n",
              "  1       2   train  2.848992\n",
              "  2       3   train  1.589077\n",
              "  3       4   train  1.177934\n",
              "  4       5   train  0.917396\n",
              "  5       6   train  0.753998\n",
              "  6       7   train  0.604332\n",
              "  7       8   train  0.540194\n",
              "  8       9   train  0.443753\n",
              "  9      10   train  0.370702\n",
              "  10     11   train  0.343187\n",
              "  11     12   train  0.282890\n",
              "  12     13   train  0.267406\n",
              "  13     14   train  0.286918\n",
              "  14     15   train  0.199622\n",
              "  15     16   train  0.203482\n",
              "  16      1   valid  3.420920\n",
              "  17      2   valid  1.313574\n",
              "  18      3   valid  0.904171\n",
              "  19      4   valid  0.695258\n",
              "  20      5   valid  0.577752\n",
              "  21      6   valid  0.459309\n",
              "  22      7   valid  0.509920\n",
              "  23      8   valid  0.497065\n",
              "  24      9   valid  0.466548\n",
              "  25     10   valid  0.460384\n",
              "  26     11   valid  0.464183\n",
              "  27     12   valid  0.608310\n",
              "  28     13   valid  0.563163\n",
              "  29     14   valid  1.074519\n",
              "  30     15   valid  0.533269\n",
              "  31     16   valid  0.479253,\n",
              "  encoding: EncodingWithFacet({\n",
              "    color: Color({\n",
              "      shorthand: 'Dataset'\n",
              "    }),\n",
              "    x: X({\n",
              "      shorthand: 'epoch'\n",
              "    }),\n",
              "    y: Y({\n",
              "      shorthand: 'loss'\n",
              "    })\n",
              "  }),\n",
              "  mark: MarkDef({\n",
              "    point: True,\n",
              "    type: 'line'\n",
              "  }),\n",
              "  selection: SelectionMapping({\n",
              "    selector001: SelectionDef({\n",
              "      bind: 'scales',\n",
              "      encodings: ['x', 'y'],\n",
              "      type: 'interval'\n",
              "    })\n",
              "  })\n",
              "})"
            ],
            "text/html": [
              "<!DOCTYPE html>\n",
              "<html>\n",
              "<head>\n",
              "  <style>\n",
              "    .vega-actions a {\n",
              "        margin-right: 12px;\n",
              "        color: #757575;\n",
              "        font-weight: normal;\n",
              "        font-size: 13px;\n",
              "    }\n",
              "    .error {\n",
              "        color: red;\n",
              "    }\n",
              "  </style>\n",
              "  <script type=\"text/javascript\" src=\"https://cdn.jsdelivr.net/npm//vega@4\"></script>\n",
              "  <script type=\"text/javascript\" src=\"https://cdn.jsdelivr.net/npm//vega-lite@2.6.0\"></script>\n",
              "  <script type=\"text/javascript\" src=\"https://cdn.jsdelivr.net/npm//vega-embed@3\"></script>\n",
              "</head>\n",
              "<body>\n",
              "  <div id=\"altair-viz\"></div>\n",
              "  <script>\n",
              "      var spec = {\"config\": {\"view\": {\"width\": 400, \"height\": 300}}, \"data\": {\"name\": \"data-6fe5e93c0d2d005b703f6aee33b5e0b8\"}, \"mark\": {\"type\": \"line\", \"point\": true}, \"encoding\": {\"color\": {\"type\": \"nominal\", \"field\": \"Dataset\"}, \"x\": {\"type\": \"quantitative\", \"field\": \"epoch\"}, \"y\": {\"type\": \"quantitative\", \"field\": \"loss\"}}, \"selection\": {\"selector001\": {\"type\": \"interval\", \"bind\": \"scales\", \"encodings\": [\"x\", \"y\"]}}, \"$schema\": \"https://vega.github.io/schema/vega-lite/v2.6.0.json\", \"datasets\": {\"data-6fe5e93c0d2d005b703f6aee33b5e0b8\": [{\"epoch\": 1, \"Dataset\": \"train\", \"loss\": 8.179913964430492}, {\"epoch\": 2, \"Dataset\": \"train\", \"loss\": 2.8489921602143182}, {\"epoch\": 3, \"Dataset\": \"train\", \"loss\": 1.5890770528316498}, {\"epoch\": 4, \"Dataset\": \"train\", \"loss\": 1.1779336281352573}, {\"epoch\": 5, \"Dataset\": \"train\", \"loss\": 0.9173960475524267}, {\"epoch\": 6, \"Dataset\": \"train\", \"loss\": 0.7539976794852151}, {\"epoch\": 7, \"Dataset\": \"train\", \"loss\": 0.6043318351374732}, {\"epoch\": 8, \"Dataset\": \"train\", \"loss\": 0.5401937007374233}, {\"epoch\": 9, \"Dataset\": \"train\", \"loss\": 0.4437534858783086}, {\"epoch\": 10, \"Dataset\": \"train\", \"loss\": 0.3707017318142785}, {\"epoch\": 11, \"Dataset\": \"train\", \"loss\": 0.3431865978903241}, {\"epoch\": 12, \"Dataset\": \"train\", \"loss\": 0.2828895776404275}, {\"epoch\": 13, \"Dataset\": \"train\", \"loss\": 0.26740610380967456}, {\"epoch\": 14, \"Dataset\": \"train\", \"loss\": 0.2869181866910723}, {\"epoch\": 15, \"Dataset\": \"train\", \"loss\": 0.19962192723486158}, {\"epoch\": 16, \"Dataset\": \"train\", \"loss\": 0.2034823944038815}, {\"epoch\": 1, \"Dataset\": \"valid\", \"loss\": 3.42091974440217}, {\"epoch\": 2, \"Dataset\": \"valid\", \"loss\": 1.3135736833512783}, {\"epoch\": 3, \"Dataset\": \"valid\", \"loss\": 0.9041707212924958}, {\"epoch\": 4, \"Dataset\": \"valid\", \"loss\": 0.6952575310468674}, {\"epoch\": 5, \"Dataset\": \"valid\", \"loss\": 0.5777520976364613}, {\"epoch\": 6, \"Dataset\": \"valid\", \"loss\": 0.4593087797183543}, {\"epoch\": 7, \"Dataset\": \"valid\", \"loss\": 0.5099202321693301}, {\"epoch\": 8, \"Dataset\": \"valid\", \"loss\": 0.4970651109293103}, {\"epoch\": 9, \"Dataset\": \"valid\", \"loss\": 0.4665475040525198}, {\"epoch\": 10, \"Dataset\": \"valid\", \"loss\": 0.4603841066323221}, {\"epoch\": 11, \"Dataset\": \"valid\", \"loss\": 0.4641825870277826}, {\"epoch\": 12, \"Dataset\": \"valid\", \"loss\": 0.6083095858094748}, {\"epoch\": 13, \"Dataset\": \"valid\", \"loss\": 0.5631633752584457}, {\"epoch\": 14, \"Dataset\": \"valid\", \"loss\": 1.0745188024044037}, {\"epoch\": 15, \"Dataset\": \"valid\", \"loss\": 0.5332686187038198}, {\"epoch\": 16, \"Dataset\": \"valid\", \"loss\": 0.47925288521870973}]}};\n",
              "      var embedOpt = {\"mode\": \"vega-lite\"};\n",
              "\n",
              "      function showError(el, error){\n",
              "          el.innerHTML = ('<div class=\"error\" style=\"color:red;\">'\n",
              "                          + '<p>JavaScript Error: ' + error.message + '</p>'\n",
              "                          + \"<p>This usually means there's a typo in your chart specification. \"\n",
              "                          + \"See the javascript console for the full traceback.</p>\"\n",
              "                          + '</div>');\n",
              "          throw error;\n",
              "      }\n",
              "      const el = document.getElementById('altair-viz');\n",
              "      vegaEmbed(\"#altair-viz\", spec, embedOpt)\n",
              "        .catch(error => showError(el, error));\n",
              "\n",
              "  </script>\n",
              "</body>\n",
              "</html>"
            ]
          },
          "metadata": {
            "tags": []
          },
          "execution_count": 17
        }
      ]
    },
    {
      "metadata": {
        "colab_type": "code",
        "id": "ZGKyPYmXPpp3",
        "colab": {}
      },
      "cell_type": "code",
      "source": [
        "#get prediction result for test data\n",
        "predict=test(model,testloader, criteria, 1)\n",
        "result=predict.numpy()"
      ],
      "execution_count": 0,
      "outputs": []
    },
    {
      "metadata": {
        "colab_type": "code",
        "id": "E96cFJQelsIx",
        "colab": {}
      },
      "cell_type": "code",
      "source": [
        "# Put data in the appropriate format for kaggle submissiom\n",
        "submission = pd.DataFrame()"
      ],
      "execution_count": 0,
      "outputs": []
    },
    {
      "metadata": {
        "colab_type": "code",
        "id": "LfIWQny2yjVh",
        "colab": {}
      },
      "cell_type": "code",
      "source": [
        "a = result.astype(int)\n",
        "df1 = pd.DataFrame({'Id': a})"
      ],
      "execution_count": 0,
      "outputs": []
    },
    {
      "metadata": {
        "colab_type": "code",
        "id": "QoBvDzEoyj5N",
        "colab": {
          "base_uri": "https://localhost:8080/",
          "height": 204
        },
        "outputId": "fb03b950-a8b7-4317-9545-a84092907978"
      },
      "cell_type": "code",
      "source": [
        "submission['Id']=range(0, len(df1) )\n",
        "\n",
        "submission['Category']=a\n",
        "submission.head()"
      ],
      "execution_count": 21,
      "outputs": [
        {
          "output_type": "execute_result",
          "data": {
            "text/html": [
              "<div>\n",
              "<style scoped>\n",
              "    .dataframe tbody tr th:only-of-type {\n",
              "        vertical-align: middle;\n",
              "    }\n",
              "\n",
              "    .dataframe tbody tr th {\n",
              "        vertical-align: top;\n",
              "    }\n",
              "\n",
              "    .dataframe thead th {\n",
              "        text-align: right;\n",
              "    }\n",
              "</style>\n",
              "<table border=\"1\" class=\"dataframe\">\n",
              "  <thead>\n",
              "    <tr style=\"text-align: right;\">\n",
              "      <th></th>\n",
              "      <th>Id</th>\n",
              "      <th>Category</th>\n",
              "    </tr>\n",
              "  </thead>\n",
              "  <tbody>\n",
              "    <tr>\n",
              "      <th>0</th>\n",
              "      <td>0</td>\n",
              "      <td>7</td>\n",
              "    </tr>\n",
              "    <tr>\n",
              "      <th>1</th>\n",
              "      <td>1</td>\n",
              "      <td>1</td>\n",
              "    </tr>\n",
              "    <tr>\n",
              "      <th>2</th>\n",
              "      <td>2</td>\n",
              "      <td>6</td>\n",
              "    </tr>\n",
              "    <tr>\n",
              "      <th>3</th>\n",
              "      <td>3</td>\n",
              "      <td>1</td>\n",
              "    </tr>\n",
              "    <tr>\n",
              "      <th>4</th>\n",
              "      <td>4</td>\n",
              "      <td>8</td>\n",
              "    </tr>\n",
              "  </tbody>\n",
              "</table>\n",
              "</div>"
            ],
            "text/plain": [
              "   Id  Category\n",
              "0   0         7\n",
              "1   1         1\n",
              "2   2         6\n",
              "3   3         1\n",
              "4   4         8"
            ]
          },
          "metadata": {
            "tags": []
          },
          "execution_count": 21
        }
      ]
    },
    {
      "metadata": {
        "colab_type": "code",
        "id": "XTqa6lNJpIBM",
        "colab": {}
      },
      "cell_type": "code",
      "source": [
        "submission.to_csv('vgg16_.csv', index=False)"
      ],
      "execution_count": 0,
      "outputs": []
    },
    {
      "metadata": {
        "colab_type": "code",
        "id": "LVj0yPYlzjJn",
        "colab": {}
      },
      "cell_type": "code",
      "source": [
        "from google.colab import files\n",
        "files.download('vgg16_.csv') "
      ],
      "execution_count": 0,
      "outputs": []
    }
  ]
}