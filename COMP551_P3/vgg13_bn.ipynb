{
 "cells": [
  {
   "cell_type": "markdown",
   "metadata": {
    "colab_type": "text",
    "id": "r6HdN6hUrLs7"
   },
   "source": [
    "# COMP551: Project 3"
   ]
  },
  {
   "cell_type": "code",
   "execution_count": 0,
   "metadata": {
    "colab": {},
    "colab_type": "code",
    "id": "g-9G-w9WmmQk"
   },
   "outputs": [],
   "source": []
  },
  {
   "cell_type": "markdown",
   "metadata": {
    "colab_type": "text",
    "id": "8CXBD0H-rHk9"
   },
   "source": [
    "#### Group 47\n",
    "#### Authors : Ying Sun, Said Khalifef & Boury Mbodj\n",
    "#### Date : March 16th 2019\n",
    "#### Subject: The given file contains the implementation of a vgg13-bn supervised classification model using pytorch. "
   ]
  },
  {
   "cell_type": "code",
   "execution_count": 0,
   "metadata": {
    "colab": {},
    "colab_type": "code",
    "id": "an4jb3M2o0iZ"
   },
   "outputs": [],
   "source": [
    "import pandas as pd\n",
    "import torch\n",
    "import torchvision\n",
    "import torchvision.transforms as transforms\n",
    "import numpy as np\n",
    "from torch.utils.data import DataLoader, Dataset, TensorDataset"
   ]
  },
  {
   "cell_type": "code",
   "execution_count": 2,
   "metadata": {
    "colab": {
     "base_uri": "https://localhost:8080/",
     "height": 122
    },
    "colab_type": "code",
    "id": "eJo-aFMiufRA",
    "outputId": "2054a91f-948b-400f-fe40-ff598087f31e"
   },
   "outputs": [
    {
     "name": "stdout",
     "output_type": "stream",
     "text": [
      "Go to this URL in a browser: https://accounts.google.com/o/oauth2/auth?client_id=947318989803-6bn6qk8qdgf4n4g3pfee6491hc0brc4i.apps.googleusercontent.com&redirect_uri=urn%3Aietf%3Awg%3Aoauth%3A2.0%3Aoob&scope=email%20https%3A%2F%2Fwww.googleapis.com%2Fauth%2Fdocs.test%20https%3A%2F%2Fwww.googleapis.com%2Fauth%2Fdrive%20https%3A%2F%2Fwww.googleapis.com%2Fauth%2Fdrive.photos.readonly%20https%3A%2F%2Fwww.googleapis.com%2Fauth%2Fpeopleapi.readonly&response_type=code\n",
      "\n",
      "Enter your authorization code:\n",
      "··········\n",
      "Mounted at /content/drive\n"
     ]
    }
   ],
   "source": [
    "# Load the Drive helper and mount\n",
    "from google.colab import drive\n",
    "\n",
    "# This will prompt for authorization.\n",
    "drive.mount('/content/drive')"
   ]
  },
  {
   "cell_type": "code",
   "execution_count": 3,
   "metadata": {
    "colab": {
     "base_uri": "https://localhost:8080/",
     "height": 85
    },
    "colab_type": "code",
    "id": "jFdi_HhFuy7W",
    "outputId": "782bd8df-41fd-4993-8227-660d6c3f62b7"
   },
   "outputs": [
    {
     "name": "stdout",
     "output_type": "stream",
     "text": [
      "Model\t\tProject3_model.ipynb   test_images.pkl\t vgg19_bn.ipynb\n",
      "P3resnet.ipynb\tProject3_model.py      train_images.pkl\n",
      "P3trial2.ipynb\tsample_submission.csv  train_labels.csv\n",
      "P3trial4.ipynb\tsolution_final3.csv    Untitled.ipynb\n"
     ]
    }
   ],
   "source": [
    "# After executing the cell above, Drive\n",
    "# files will be present in \"/content/drive/My Drive\".\n",
    "!ls \"/content/drive/My Drive/COMP551P3/comp-551-w2019-project-3-modified-mnist\""
   ]
  },
  {
   "cell_type": "code",
   "execution_count": 0,
   "metadata": {
    "colab": {},
    "colab_type": "code",
    "id": "7XBd4yUW9fNV"
   },
   "outputs": [],
   "source": [
    "f=open(\"/content/drive/My Drive/COMP551P3/comp-551-w2019-project-3-modified-mnist/train_images.pkl\",\"rb\")\n",
    "f1=open(\"/content/drive/My Drive/COMP551P3/comp-551-w2019-project-3-modified-mnist/train_labels.csv\",\"rb\")\n",
    "f2=open(\"/content/drive/My Drive/COMP551P3/comp-551-w2019-project-3-modified-mnist/test_images.pkl\",\"rb\")"
   ]
  },
  {
   "cell_type": "code",
   "execution_count": 0,
   "metadata": {
    "colab": {},
    "colab_type": "code",
    "id": "pYAd2_qtvypy"
   },
   "outputs": [],
   "source": [
    "#read training data through pandas\n",
    "x_train=pd.read_pickle(f)\n",
    "#normalize training data by toTensor and mean(0.5) and std(0.5). \n",
    "#Note that torchvision.transforms can be used. But I'm still not familiar with it...\n",
    "x_train=(x_train/255-0.5)*2\n",
    "#read training lable, the first column in y_train_r is id num, the second column is lable.\n",
    "y_train_r = pd.read_csv(f1)\n",
    "#tranfer numpy to tensor, in order to use gpu\n",
    "y_train=torch.tensor(y_train_r.values[:,1])\n",
    "#product train set.\n",
    "trainset=[np.zeros((64,64)),np.zeros(1)]\n",
    "for j in range(36000): #Note this part all data in train_images.pkl is load into trainset.\n",
    "    # If valid set is needed, 40000 can be modifoed as the required length of trainset\n",
    "    # Then do the same thing to validset, but the range need to be after trainset\n",
    "    trainset.append([x_train[j],y_train[j]])\n",
    "del trainset[0]\n",
    "del trainset[0]\n",
    "#copy 1 channel as 3 channels\n",
    "# Use validation set \n",
    "validset=[np.zeros((64,64)),np.zeros(1)]\n",
    "for j in range(40000): #Note this part all data in train_images.pkl is load into trainset.\n",
    "    # If valid set is needed, 40000 can be modifoed as the required length of trainset\n",
    "    # Then do the same thing to validset, but the range need to be after trainset\n",
    "    if (j>36000):\n",
    "       validset.append([x_train[j],y_train[j]])\n",
    "del validset[0]\n",
    "del validset[0]\n",
    "#copy 1 channel as 3 channels \n",
    "for i in range(len(trainset)):\n",
    "    trainset[i][0]=torch.tensor([np.array(trainset[i][0]),np.array(trainset[i][0]),np.array(trainset[i][0])])\n",
    "#Get trainloader\n",
    "trainloader = torch.utils.data.DataLoader(trainset, batch_size=4,\n",
    "                                          shuffle=True, num_workers=2)\n",
    "#copy 1 channel as 3 channels \n",
    "for i in range(len(validset)):\n",
    "    validset[i][0]=torch.tensor([np.array(validset[i][0]),np.array(validset[i][0]),np.array(validset[i][0])])\n",
    "#Get validloader\n",
    "validloader = torch.utils.data.DataLoader(validset, batch_size=4,\n",
    "                                          shuffle=False, num_workers=2)"
   ]
  },
  {
   "cell_type": "code",
   "execution_count": 0,
   "metadata": {
    "colab": {},
    "colab_type": "code",
    "id": "iW68L9wAO91m"
   },
   "outputs": [],
   "source": [
    "# Preprocessing testset:\n",
    "x_test=pd.read_pickle(f2)\n",
    "x_test=(x_test/255-0.5)*2\n",
    "testset=[np.zeros((64,64)),np.zeros(1)]\n",
    "for j in range(len(x_test)):\n",
    "    testset.append([x_test[j],y_train[j]])\n",
    "del testset[0]\n",
    "del testset[0]\n",
    "for i in range(len(testset)):\n",
    "    testset[i][0]=torch.tensor([np.array(testset[i][0]),np.array(testset[i][0]),np.array(testset[i][0])])\n",
    "#preporcessing testloader\n",
    "testloader = torch.utils.data.DataLoader(testset, batch_size=1,\n",
    "                                          shuffle=False, num_workers=2)"
   ]
  },
  {
   "cell_type": "code",
   "execution_count": 7,
   "metadata": {
    "colab": {
     "base_uri": "https://localhost:8080/",
     "height": 85
    },
    "colab_type": "code",
    "id": "D68t0H0F9Ahr",
    "outputId": "9c5f8e59-bd3c-47a8-c945-494172b8d6f9"
   },
   "outputs": [
    {
     "name": "stdout",
     "output_type": "stream",
     "text": [
      "[Train  and validation size]\n",
      " - Numpy Shape: (40000, 64, 64)\n",
      "[Test size]\n",
      " - Numpy Shape: (10000, 64, 64)\n"
     ]
    }
   ],
   "source": [
    "print('[Train  and validation size]')\n",
    "print(' - Numpy Shape:', x_train.shape)\n",
    "print('[Test size]')\n",
    "print(' - Numpy Shape:', x_test.shape)\n",
    "\n",
    "\n"
   ]
  },
  {
   "cell_type": "code",
   "execution_count": 8,
   "metadata": {
    "colab": {
     "base_uri": "https://localhost:8080/",
     "height": 349
    },
    "colab_type": "code",
    "id": "D8a3S-TdO-te",
    "outputId": "f8ff3290-1d6c-420d-9963-40b640d56233"
   },
   "outputs": [
    {
     "data": {
      "image/png": "[encoded data removed]",
      "text/plain": [
       "<Figure size 576x396 with 1 Axes>"
      ]
     },
     "metadata": {
      "tags": []
     },
     "output_type": "display_data"
    }
   ],
   "source": [
    "# function to show figures. This part has nothing to do with training.\n",
    "import matplotlib.pyplot as plt\n",
    "import numpy as np\n",
    "plt.imshow(x_test[100])\n",
    "plt.show()"
   ]
  },
  {
   "cell_type": "code",
   "execution_count": 9,
   "metadata": {
    "colab": {
     "base_uri": "https://localhost:8080/",
     "height": 51
    },
    "colab_type": "code",
    "id": "UZ-CJNOJPRgI",
    "outputId": "0394d70b-e1a2-46c2-cebb-25b31f5c1f70"
   },
   "outputs": [
    {
     "name": "stderr",
     "output_type": "stream",
     "text": [
      "Downloading: \"https://download.pytorch.org/models/vgg13_bn-abd245e5.pth\" to /root/.torch/models/vgg13_bn-abd245e5.pth\n",
      "532246301it [00:06, 81943793.22it/s]\n"
     ]
    }
   ],
   "source": [
    "#*********************************************************************\n",
    "# model part\n",
    "import torchvision.models as models\n",
    "# use pretrained model:\n",
    "model = models.vgg13_bn(pretrained = True)\n",
    "#import OrderedDicted to corectly align the network layers\n",
    "#import nn to modify features\n",
    "from collections import OrderedDict\n",
    "from torch import nn\n",
    "#create classifier which fit our num of outputs\n",
    "classifier= nn.Sequential(\n",
    "                          nn.Dropout(p = 0.5),\n",
    "                          nn.Linear(in_features=25088, out_features=512, bias=True),\n",
    "                          nn.BatchNorm1d(512),\n",
    "                          nn.ReLU(inplace=True),\n",
    "                          nn.Dropout(p = 0.5),\n",
    "                          nn.Linear(in_features=512, out_features=102, bias=True),\n",
    "                          nn.BatchNorm1d(102),\n",
    "                          nn.ReLU(inplace=True),\n",
    "                          nn.Dropout(p = 0.4),\n",
    "                          nn.Linear(102, 10),\n",
    "        )\n",
    "#replace the model's classifier with this new classifier \n",
    "model.classifier = classifier"
   ]
  },
  {
   "cell_type": "code",
   "execution_count": 10,
   "metadata": {
    "colab": {
     "base_uri": "https://localhost:8080/",
     "height": 901
    },
    "colab_type": "code",
    "id": "hHfRNYsgs6IN",
    "outputId": "e1807ac4-c47d-4b3c-f63d-ab3acc289fcb"
   },
   "outputs": [
    {
     "name": "stdout",
     "output_type": "stream",
     "text": [
      "VGG(\n",
      "  (features): Sequential(\n",
      "    (0): Conv2d(3, 64, kernel_size=(3, 3), stride=(1, 1), padding=(1, 1))\n",
      "    (1): BatchNorm2d(64, eps=1e-05, momentum=0.1, affine=True, track_running_stats=True)\n",
      "    (2): ReLU(inplace)\n",
      "    (3): Conv2d(64, 64, kernel_size=(3, 3), stride=(1, 1), padding=(1, 1))\n",
      "    (4): BatchNorm2d(64, eps=1e-05, momentum=0.1, affine=True, track_running_stats=True)\n",
      "    (5): ReLU(inplace)\n",
      "    (6): MaxPool2d(kernel_size=2, stride=2, padding=0, dilation=1, ceil_mode=False)\n",
      "    (7): Conv2d(64, 128, kernel_size=(3, 3), stride=(1, 1), padding=(1, 1))\n",
      "    (8): BatchNorm2d(128, eps=1e-05, momentum=0.1, affine=True, track_running_stats=True)\n",
      "    (9): ReLU(inplace)\n",
      "    (10): Conv2d(128, 128, kernel_size=(3, 3), stride=(1, 1), padding=(1, 1))\n",
      "    (11): BatchNorm2d(128, eps=1e-05, momentum=0.1, affine=True, track_running_stats=True)\n",
      "    (12): ReLU(inplace)\n",
      "    (13): MaxPool2d(kernel_size=2, stride=2, padding=0, dilation=1, ceil_mode=False)\n",
      "    (14): Conv2d(128, 256, kernel_size=(3, 3), stride=(1, 1), padding=(1, 1))\n",
      "    (15): BatchNorm2d(256, eps=1e-05, momentum=0.1, affine=True, track_running_stats=True)\n",
      "    (16): ReLU(inplace)\n",
      "    (17): Conv2d(256, 256, kernel_size=(3, 3), stride=(1, 1), padding=(1, 1))\n",
      "    (18): BatchNorm2d(256, eps=1e-05, momentum=0.1, affine=True, track_running_stats=True)\n",
      "    (19): ReLU(inplace)\n",
      "    (20): MaxPool2d(kernel_size=2, stride=2, padding=0, dilation=1, ceil_mode=False)\n",
      "    (21): Conv2d(256, 512, kernel_size=(3, 3), stride=(1, 1), padding=(1, 1))\n",
      "    (22): BatchNorm2d(512, eps=1e-05, momentum=0.1, affine=True, track_running_stats=True)\n",
      "    (23): ReLU(inplace)\n",
      "    (24): Conv2d(512, 512, kernel_size=(3, 3), stride=(1, 1), padding=(1, 1))\n",
      "    (25): BatchNorm2d(512, eps=1e-05, momentum=0.1, affine=True, track_running_stats=True)\n",
      "    (26): ReLU(inplace)\n",
      "    (27): MaxPool2d(kernel_size=2, stride=2, padding=0, dilation=1, ceil_mode=False)\n",
      "    (28): Conv2d(512, 512, kernel_size=(3, 3), stride=(1, 1), padding=(1, 1))\n",
      "    (29): BatchNorm2d(512, eps=1e-05, momentum=0.1, affine=True, track_running_stats=True)\n",
      "    (30): ReLU(inplace)\n",
      "    (31): Conv2d(512, 512, kernel_size=(3, 3), stride=(1, 1), padding=(1, 1))\n",
      "    (32): BatchNorm2d(512, eps=1e-05, momentum=0.1, affine=True, track_running_stats=True)\n",
      "    (33): ReLU(inplace)\n",
      "    (34): MaxPool2d(kernel_size=2, stride=2, padding=0, dilation=1, ceil_mode=False)\n",
      "  )\n",
      "  (avgpool): AdaptiveAvgPool2d(output_size=(7, 7))\n",
      "  (classifier): Sequential(\n",
      "    (0): Dropout(p=0.5)\n",
      "    (1): Linear(in_features=25088, out_features=512, bias=True)\n",
      "    (2): BatchNorm1d(512, eps=1e-05, momentum=0.1, affine=True, track_running_stats=True)\n",
      "    (3): ReLU(inplace)\n",
      "    (4): Dropout(p=0.5)\n",
      "    (5): Linear(in_features=512, out_features=102, bias=True)\n",
      "    (6): BatchNorm1d(102, eps=1e-05, momentum=0.1, affine=True, track_running_stats=True)\n",
      "    (7): ReLU(inplace)\n",
      "    (8): Dropout(p=0.4)\n",
      "    (9): Linear(in_features=102, out_features=10, bias=True)\n",
      "  )\n",
      ")\n"
     ]
    }
   ],
   "source": [
    "print(model)"
   ]
  },
  {
   "cell_type": "code",
   "execution_count": 0,
   "metadata": {
    "colab": {},
    "colab_type": "code",
    "id": "FNJMkhfKPSAI"
   },
   "outputs": [],
   "source": [
    "#import optimizer:\n",
    "from torch import optim\n",
    "#define criteria and optimizer\n",
    "# Note that other losses or optimizers can also be tried\n",
    "criteria = nn.CrossEntropyLoss()\n",
    "optimizer = optim.SGD(model.parameters(), lr = 0.0003, momentum=0.9)"
   ]
  },
  {
   "cell_type": "code",
   "execution_count": 0,
   "metadata": {
    "colab": {},
    "colab_type": "code",
    "id": "gSumLrfaPZZ6"
   },
   "outputs": [],
   "source": [
    "#train model\n",
    "#define training function\n",
    "def train (model, loader, criterion, gpu):\n",
    "    model.train()\n",
    "    current_loss = 0\n",
    "    current_correct = 0\n",
    "    for train, y_train in iter(loader):\n",
    "        if gpu:\n",
    "            train, y_train = train.to('cuda'), y_train.to('cuda')\n",
    "        optimizer.zero_grad()\n",
    "        output = model.forward(train)\n",
    "        _, preds = torch.max(output,1)\n",
    "        loss = criterion(output, y_train)\n",
    "        loss.backward()\n",
    "        optimizer.step()\n",
    "        current_loss += loss.item()*train.size(0)\n",
    "        current_correct += torch.sum(preds == y_train.data)\n",
    "        #check if the training is correct: print(preds,y_train,current_correct,current_loss)\n",
    "    epoch_loss = current_loss / len(loader)\n",
    "    # devide 4 because we read 4 data everytime\n",
    "    epoch_acc = current_correct.double() / len(loader)/4\n",
    "        \n",
    "    return epoch_loss, epoch_acc"
   ]
  },
  {
   "cell_type": "code",
   "execution_count": 0,
   "metadata": {
    "colab": {},
    "colab_type": "code",
    "id": "KVd48zETPc3V"
   },
   "outputs": [],
   "source": [
    "#define validation function\n",
    "def validation (model, loader, criterion, gpu):\n",
    "    model.eval()\n",
    "    valid_loss = 0\n",
    "    valid_correct = 0\n",
    "    #I added this\n",
    "    pred=torch.zeros(len(loader))\n",
    "    for valid, y_valid in iter(loader):\n",
    "        if gpu:\n",
    "            valid, y_valid = valid.to('cuda'), y_valid.to('cuda')\n",
    "        output = model.forward(valid)\n",
    "        _, preds = torch.max(output,1)\n",
    "        valid_loss += criterion(output, y_valid).item()*valid.size(0)\n",
    "        valid_correct += torch.sum(preds == y_valid.data)\n",
    "    \n",
    "    epoch_loss = valid_loss / len(loader)\n",
    "    epoch_acc = valid_correct.double() / len(loader)/4\n",
    "    \n",
    "    return epoch_loss, epoch_acc"
   ]
  },
  {
   "cell_type": "code",
   "execution_count": 0,
   "metadata": {
    "colab": {},
    "colab_type": "code",
    "id": "PeVn5a0vPhJW"
   },
   "outputs": [],
   "source": [
    "#define test function\n",
    "def test (model, loader, criterion, gpu):\n",
    "    model.eval()\n",
    "    valid_loss = 0\n",
    "    valid_correct = 0\n",
    "    i=0\n",
    "    pred=torch.zeros(len(loader))\n",
    "    for test, y_train in iter(loader):\n",
    "        if gpu:\n",
    "            test = test.to('cuda')\n",
    "        output = model.forward(test)\n",
    "        _, preds = torch.max(output,1)\n",
    "        pred[i]=preds\n",
    "        i=i+1    \n",
    "    return pred"
   ]
  },
  {
   "cell_type": "code",
   "execution_count": 15,
   "metadata": {
    "colab": {
     "base_uri": "https://localhost:8080/",
     "height": 1377
    },
    "colab_type": "code",
    "id": "zgXlX7GTPmqb",
    "outputId": "31e32be1-1de3-4109-86f5-a1dba940656d"
   },
   "outputs": [
    {
     "name": "stdout",
     "output_type": "stream",
     "text": [
      "1\n",
      "Epoch: 1 Train Loss : 6.2235  Train Accuracy: 0.4875\n",
      "Epoch: 1 Validation Loss : 2.0810  Validation Accuracy 0.8770\n",
      "--- 381.6341598033905 seconds ---\n",
      "2\n",
      "Epoch: 2 Train Loss : 3.2429  Train Accuracy: 0.7740\n",
      "Epoch: 2 Validation Loss : 1.2370  Validation Accuracy 0.9320\n",
      "--- 751.7591245174408 seconds ---\n",
      "3\n",
      "Epoch: 3 Train Loss : 2.4176  Train Accuracy: 0.8326\n",
      "Epoch: 3 Validation Loss : 1.0058  Validation Accuracy 0.9477\n",
      "--- 1122.4084601402283 seconds ---\n",
      "4\n",
      "Epoch: 4 Train Loss : 1.9071  Train Accuracy: 0.8715\n",
      "Epoch: 4 Validation Loss : 0.8311  Validation Accuracy 0.9445\n",
      "--- 1492.8043925762177 seconds ---\n",
      "5\n",
      "Epoch: 5 Train Loss : 1.6310  Train Accuracy: 0.8925\n",
      "Epoch: 5 Validation Loss : 0.7335  Validation Accuracy 0.9530\n",
      "--- 1863.0178892612457 seconds ---\n",
      "6\n",
      "Epoch: 6 Train Loss : 1.3135  Train Accuracy: 0.9124\n",
      "Epoch: 6 Validation Loss : 0.6438  Validation Accuracy 0.9583\n",
      "--- 2233.948269844055 seconds ---\n",
      "7\n",
      "Epoch: 7 Train Loss : 1.1877  Train Accuracy: 0.9215\n",
      "Epoch: 7 Validation Loss : 0.5563  Validation Accuracy 0.9613\n",
      "--- 2608.3109872341156 seconds ---\n",
      "8\n",
      "Epoch: 8 Train Loss : 1.0205  Train Accuracy: 0.9344\n",
      "Epoch: 8 Validation Loss : 0.5191  Validation Accuracy 0.9630\n",
      "--- 2978.997723340988 seconds ---\n",
      "9\n",
      "Epoch: 9 Train Loss : 0.8643  Train Accuracy: 0.9437\n",
      "Epoch: 9 Validation Loss : 0.5166  Validation Accuracy 0.9645\n",
      "--- 3349.360187292099 seconds ---\n",
      "10\n",
      "Epoch: 10 Train Loss : 0.7876  Train Accuracy: 0.9486\n",
      "Epoch: 10 Validation Loss : 0.4948  Validation Accuracy 0.9660\n",
      "--- 3719.4954335689545 seconds ---\n",
      "11\n",
      "Epoch: 11 Train Loss : 0.7192  Train Accuracy: 0.9527\n",
      "Epoch: 11 Validation Loss : 0.4101  Validation Accuracy 0.9715\n",
      "--- 4089.4163494110107 seconds ---\n",
      "12\n",
      "Epoch: 12 Train Loss : 0.6535  Train Accuracy: 0.9584\n",
      "Epoch: 12 Validation Loss : 0.4959  Validation Accuracy 0.9683\n",
      "--- 4459.378157615662 seconds ---\n",
      "13\n",
      "Epoch: 13 Train Loss : 0.5665  Train Accuracy: 0.9630\n",
      "Epoch: 13 Validation Loss : 0.4459  Validation Accuracy 0.9688\n",
      "--- 4829.365798711777 seconds ---\n",
      "14\n",
      "Epoch: 14 Train Loss : 0.5520  Train Accuracy: 0.9652\n",
      "Epoch: 14 Validation Loss : 0.4628  Validation Accuracy 0.9657\n",
      "--- 5199.677127599716 seconds ---\n",
      "15\n",
      "Epoch: 15 Train Loss : 0.4983  Train Accuracy: 0.9680\n",
      "Epoch: 15 Validation Loss : 0.3816  Validation Accuracy 0.9718\n",
      "--- 5569.899559736252 seconds ---\n",
      "16\n",
      "Epoch: 16 Train Loss : 0.4520  Train Accuracy: 0.9713\n",
      "Epoch: 16 Validation Loss : 0.5057  Validation Accuracy 0.9660\n",
      "--- 5940.070538043976 seconds ---\n",
      "17\n",
      "Epoch: 17 Train Loss : 0.4465  Train Accuracy: 0.9704\n",
      "Epoch: 17 Validation Loss : 0.4536  Validation Accuracy 0.9660\n",
      "--- 6310.188015937805 seconds ---\n",
      "18\n",
      "Epoch: 18 Train Loss : 0.3990  Train Accuracy: 0.9755\n",
      "Epoch: 18 Validation Loss : 0.4178  Validation Accuracy 0.9723\n",
      "--- 6679.96945977211 seconds ---\n",
      "19\n",
      "Epoch: 19 Train Loss : 0.3824  Train Accuracy: 0.9759\n",
      "Epoch: 19 Validation Loss : 0.5621  Validation Accuracy 0.9610\n",
      "--- 7049.781903743744 seconds ---\n",
      "20\n",
      "Epoch: 20 Train Loss : 0.3554  Train Accuracy: 0.9781\n",
      "Epoch: 20 Validation Loss : 0.4599  Validation Accuracy 0.9725\n",
      "--- 7419.486756563187 seconds ---\n"
     ]
    }
   ],
   "source": [
    "import time\n",
    "start_time = time.time()\n",
    "# training\n",
    "#send model to gpu. If not send it to GPU, delete next line.\n",
    "model.to('cuda')\n",
    "train_losses =[]\n",
    "train_acc =[]\n",
    "valid_losses=[]\n",
    "valid_acc =[]\n",
    "#Initialize training params  \n",
    "#freeze gradient parameters in pretrained model\n",
    "for param in model.parameters():\n",
    "    param.requires_grad = False\n",
    "# define number of epochs\n",
    "epochs = 20 \n",
    "epoch = 0\n",
    "\n",
    "for e in range(epochs):\n",
    "    epoch +=1\n",
    "    print(epoch)\n",
    "#train:    \n",
    "    with torch.set_grad_enabled(True):\n",
    "        epoch_train_loss, epoch_train_acc = train(model,trainloader, criteria, 1)\n",
    "        train_losses.append(epoch_train_loss)\n",
    "        train_acc.append(epoch_train_acc)\n",
    "    print(\"Epoch: {} Train Loss : {:.4f}  Train Accuracy: {:.4f}\".format(epoch,epoch_train_loss,epoch_train_acc))\n",
    "    \n",
    "#Valid, Activate next code when validation result is needed:\n",
    "    with torch.no_grad():\n",
    "        epoch_val_loss, epoch_val_acc = validation(model, validloader, criteria, 1)\n",
    "        valid_losses.append(epoch_val_loss)\n",
    "        valid_acc.append(epoch_val_acc)\n",
    "    print(\"Epoch: {} Validation Loss : {:.4f}  Validation Accuracy {:.4f}\".format(epoch,epoch_val_loss,epoch_val_acc))\n",
    "    print(\"--- %s seconds ---\" % (time.time() - start_time))"
   ]
  },
  {
   "cell_type": "code",
   "execution_count": 16,
   "metadata": {
    "colab": {
     "base_uri": "https://localhost:8080/",
     "height": 364
    },
    "colab_type": "code",
    "id": "m55HUEJOOAzb",
    "outputId": "64421d05-e4a4-4666-d4db-b58f33a471d4"
   },
   "outputs": [
    {
     "data": {
      "text/plain": [
       "<matplotlib.legend.Legend at 0x7f44836bf470>"
      ]
     },
     "execution_count": 16,
     "metadata": {
      "tags": []
     },
     "output_type": "execute_result"
    },
    {
     "data": {
      "image/png": "[encoded data removed]",
      "text/plain": [
       "<Figure size 576x396 with 1 Axes>"
      ]
     },
     "metadata": {
      "tags": []
     },
     "output_type": "display_data"
    }
   ],
   "source": [
    "#Plot training and validation losses\n",
    "plt.plot(train_losses, label='Training loss')\n",
    "plt.plot(valid_losses, label='Validation loss')\n",
    "plt.legend()"
   ]
  },
  {
   "cell_type": "code",
   "execution_count": 17,
   "metadata": {
    "colab": {
     "base_uri": "https://localhost:8080/",
     "height": 366
    },
    "colab_type": "code",
    "id": "Ieym9VY0TI-_",
    "outputId": "537e7e49-08b2-4c75-b0be-af9e48cef054"
   },
   "outputs": [
    {
     "data": {
      "text/plain": [
       "<matplotlib.legend.Legend at 0x7f4483780e10>"
      ]
     },
     "execution_count": 17,
     "metadata": {
      "tags": []
     },
     "output_type": "execute_result"
    },
    {
     "data": {
      "image/png": "[encoded data removed]",
      "text/plain": [
       "<Figure size 576x396 with 1 Axes>"
      ]
     },
     "metadata": {
      "tags": []
     },
     "output_type": "display_data"
    }
   ],
   "source": [
    "#Plot training and validation accuracy\n",
    "plt.plot(train_acc, label='Training accuracy')\n",
    "plt.plot(valid_acc, label='Validation accuracy')\n",
    "plt.legend()"
   ]
  },
  {
   "cell_type": "code",
   "execution_count": 18,
   "metadata": {
    "colab": {
     "base_uri": "https://localhost:8080/",
     "height": 366
    },
    "colab_type": "code",
    "id": "icl6jrEU0x9C",
    "outputId": "5ef79de3-1194-45a9-b3e5-dd05b1d45b9e"
   },
   "outputs": [
    {
     "data": {
      "text/html": [
       "<!DOCTYPE html>\n",
       "<html>\n",
       "<head>\n",
       "  <style>\n",
       "    .vega-actions a {\n",
       "        margin-right: 12px;\n",
       "        color: #757575;\n",
       "        font-weight: normal;\n",
       "        font-size: 13px;\n",
       "    }\n",
       "    .error {\n",
       "        color: red;\n",
       "    }\n",
       "  </style>\n",
       "  <script type=\"text/javascript\" src=\"https://cdn.jsdelivr.net/npm//vega@4\"></script>\n",
       "  <script type=\"text/javascript\" src=\"https://cdn.jsdelivr.net/npm//vega-lite@2.6.0\"></script>\n",
       "  <script type=\"text/javascript\" src=\"https://cdn.jsdelivr.net/npm//vega-embed@3\"></script>\n",
       "</head>\n",
       "<body>\n",
       "  <div id=\"altair-viz\"></div>\n",
       "  <script>\n",
       "      var spec = {\"config\": {\"view\": {\"width\": 400, \"height\": 300}}, \"data\": {\"name\": \"data-6f567ea17ff5cdfbc36675a9daf8e8ff\"}, \"mark\": {\"type\": \"line\", \"point\": true}, \"encoding\": {\"color\": {\"type\": \"nominal\", \"field\": \"Dataset\"}, \"x\": {\"type\": \"quantitative\", \"field\": \"epoch\"}, \"y\": {\"type\": \"quantitative\", \"field\": \"loss\"}}, \"selection\": {\"selector001\": {\"type\": \"interval\", \"bind\": \"scales\", \"encodings\": [\"x\", \"y\"]}}, \"$schema\": \"https://vega.github.io/schema/vega-lite/v2.6.0.json\", \"datasets\": {\"data-6f567ea17ff5cdfbc36675a9daf8e8ff\": [{\"epoch\": 1, \"Dataset\": \"train\", \"loss\": 6.223489456256231}, {\"epoch\": 2, \"Dataset\": \"train\", \"loss\": 3.242884614057011}, {\"epoch\": 3, \"Dataset\": \"train\", \"loss\": 2.4176289667685826}, {\"epoch\": 4, \"Dataset\": \"train\", \"loss\": 1.9070912426180309}, {\"epoch\": 5, \"Dataset\": \"train\", \"loss\": 1.631005479839113}, {\"epoch\": 6, \"Dataset\": \"train\", \"loss\": 1.31353802757793}, {\"epoch\": 7, \"Dataset\": \"train\", \"loss\": 1.1877432649797863}, {\"epoch\": 8, \"Dataset\": \"train\", \"loss\": 1.020452817638715}, {\"epoch\": 9, \"Dataset\": \"train\", \"loss\": 0.8642834384308921}, {\"epoch\": 10, \"Dataset\": \"train\", \"loss\": 0.7875642757548226}, {\"epoch\": 11, \"Dataset\": \"train\", \"loss\": 0.719209807978736}, {\"epoch\": 12, \"Dataset\": \"train\", \"loss\": 0.653485441658232}, {\"epoch\": 13, \"Dataset\": \"train\", \"loss\": 0.5665316433376736}, {\"epoch\": 14, \"Dataset\": \"train\", \"loss\": 0.5520010615984599}, {\"epoch\": 15, \"Dataset\": \"train\", \"loss\": 0.4982754488653607}, {\"epoch\": 16, \"Dataset\": \"train\", \"loss\": 0.4519780689213011}, {\"epoch\": 17, \"Dataset\": \"train\", \"loss\": 0.4465110126071506}, {\"epoch\": 18, \"Dataset\": \"train\", \"loss\": 0.39900785171985625}, {\"epoch\": 19, \"Dataset\": \"train\", \"loss\": 0.38238042142656115}, {\"epoch\": 20, \"Dataset\": \"train\", \"loss\": 0.3554055678182178}, {\"epoch\": 1, \"Dataset\": \"valid\", \"loss\": 2.080997748732567}, {\"epoch\": 2, \"Dataset\": \"valid\", \"loss\": 1.2369943240880965}, {\"epoch\": 3, \"Dataset\": \"valid\", \"loss\": 1.005846593797207}, {\"epoch\": 4, \"Dataset\": \"valid\", \"loss\": 0.8311122837215662}, {\"epoch\": 5, \"Dataset\": \"valid\", \"loss\": 0.7335351592302323}, {\"epoch\": 6, \"Dataset\": \"valid\", \"loss\": 0.6438460948467255}, {\"epoch\": 7, \"Dataset\": \"valid\", \"loss\": 0.5562967102527618}, {\"epoch\": 8, \"Dataset\": \"valid\", \"loss\": 0.5190604960024356}, {\"epoch\": 9, \"Dataset\": \"valid\", \"loss\": 0.5166331523358821}, {\"epoch\": 10, \"Dataset\": \"valid\", \"loss\": 0.49477549946308136}, {\"epoch\": 11, \"Dataset\": \"valid\", \"loss\": 0.41012668670713903}, {\"epoch\": 12, \"Dataset\": \"valid\", \"loss\": 0.49587634873390196}, {\"epoch\": 13, \"Dataset\": \"valid\", \"loss\": 0.4459252369478345}, {\"epoch\": 14, \"Dataset\": \"valid\", \"loss\": 0.462832505106926}, {\"epoch\": 15, \"Dataset\": \"valid\", \"loss\": 0.3816111233085394}, {\"epoch\": 16, \"Dataset\": \"valid\", \"loss\": 0.5056647361516953}, {\"epoch\": 17, \"Dataset\": \"valid\", \"loss\": 0.4536384936571121}, {\"epoch\": 18, \"Dataset\": \"valid\", \"loss\": 0.41783076071739195}, {\"epoch\": 19, \"Dataset\": \"valid\", \"loss\": 0.5620566148161888}, {\"epoch\": 20, \"Dataset\": \"valid\", \"loss\": 0.45990401136502623}]}};\n",
       "      var embedOpt = {\"mode\": \"vega-lite\"};\n",
       "\n",
       "      function showError(el, error){\n",
       "          el.innerHTML = ('<div class=\"error\" style=\"color:red;\">'\n",
       "                          + '<p>JavaScript Error: ' + error.message + '</p>'\n",
       "                          + \"<p>This usually means there's a typo in your chart specification. \"\n",
       "                          + \"See the javascript console for the full traceback.</p>\"\n",
       "                          + '</div>');\n",
       "          throw error;\n",
       "      }\n",
       "      const el = document.getElementById('altair-viz');\n",
       "      vegaEmbed(\"#altair-viz\", spec, embedOpt)\n",
       "        .catch(error => showError(el, error));\n",
       "\n",
       "  </script>\n",
       "</body>\n",
       "</html>"
      ],
      "text/plain": [
       "Chart({\n",
       "  data:     epoch Dataset      loss\n",
       "  0       1   train  6.223489\n",
       "  1       2   train  3.242885\n",
       "  2       3   train  2.417629\n",
       "  3       4   train  1.907091\n",
       "  4       5   train  1.631005\n",
       "  5       6   train  1.313538\n",
       "  6       7   train  1.187743\n",
       "  7       8   train  1.020453\n",
       "  8       9   train  0.864283\n",
       "  9      10   train  0.787564\n",
       "  10     11   train  0.719210\n",
       "  11     12   train  0.653485\n",
       "  12     13   train  0.566532\n",
       "  13     14   train  0.552001\n",
       "  14     15   train  0.498275\n",
       "  15     16   train  0.451978\n",
       "  16     17   train  0.446511\n",
       "  17     18   train  0.399008\n",
       "  18     19   train  0.382380\n",
       "  19     20   train  0.355406\n",
       "  20      1   valid  2.080998\n",
       "  21      2   valid  1.236994\n",
       "  22      3   valid  1.005847\n",
       "  23      4   valid  0.831112\n",
       "  24      5   valid  0.733535\n",
       "  25      6   valid  0.643846\n",
       "  26      7   valid  0.556297\n",
       "  27      8   valid  0.519060\n",
       "  28      9   valid  0.516633\n",
       "  29     10   valid  0.494775\n",
       "  30     11   valid  0.410127\n",
       "  31     12   valid  0.495876\n",
       "  32     13   valid  0.445925\n",
       "  33     14   valid  0.462833\n",
       "  34     15   valid  0.381611\n",
       "  35     16   valid  0.505665\n",
       "  36     17   valid  0.453638\n",
       "  37     18   valid  0.417831\n",
       "  38     19   valid  0.562057\n",
       "  39     20   valid  0.459904,\n",
       "  encoding: EncodingWithFacet({\n",
       "    color: Color({\n",
       "      shorthand: 'Dataset'\n",
       "    }),\n",
       "    x: X({\n",
       "      shorthand: 'epoch'\n",
       "    }),\n",
       "    y: Y({\n",
       "      shorthand: 'loss'\n",
       "    })\n",
       "  }),\n",
       "  mark: MarkDef({\n",
       "    point: True,\n",
       "    type: 'line'\n",
       "  }),\n",
       "  selection: SelectionMapping({\n",
       "    selector001: SelectionDef({\n",
       "      bind: 'scales',\n",
       "      encodings: ['x', 'y'],\n",
       "      type: 'interval'\n",
       "    })\n",
       "  })\n",
       "})"
      ]
     },
     "execution_count": 18,
     "metadata": {
      "tags": []
     },
     "output_type": "execute_result"
    }
   ],
   "source": [
    "# for variety, lets use altair to do the plot\n",
    "import altair as alt\n",
    "\n",
    "# create a pandas dataframe for the loss\n",
    "df = pd.DataFrame({\n",
    "    'epoch': range(1, len(train_losses) + 1),\n",
    "    'train': train_losses,\n",
    "    'valid': valid_losses\n",
    "})\n",
    "\n",
    "# unpivot to have cols [epoch, dataset, loss]\n",
    "df = df.melt(id_vars=['epoch'],\n",
    "             value_vars=['train', 'valid'],\n",
    "             value_name='loss',\n",
    "             var_name='Dataset')\n",
    "\n",
    "# line plot with altair\n",
    "alt.Chart(df).mark_line(point=True)\\\n",
    "    .encode(x='epoch', y='loss', color='Dataset')\\\n",
    "    .interactive()"
   ]
  },
  {
   "cell_type": "code",
   "execution_count": 0,
   "metadata": {
    "colab": {},
    "colab_type": "code",
    "id": "ZGKyPYmXPpp3"
   },
   "outputs": [],
   "source": [
    "#get prediction result for test data\n",
    "predict=test(model,testloader, criteria, 1)\n",
    "result=predict.numpy()"
   ]
  },
  {
   "cell_type": "code",
   "execution_count": 0,
   "metadata": {
    "colab": {},
    "colab_type": "code",
    "id": "E96cFJQelsIx"
   },
   "outputs": [],
   "source": [
    "# Put data in the appropriate format for kaggle submissiom\n",
    "submission = pd.DataFrame()"
   ]
  },
  {
   "cell_type": "code",
   "execution_count": 0,
   "metadata": {
    "colab": {},
    "colab_type": "code",
    "id": "LfIWQny2yjVh"
   },
   "outputs": [],
   "source": [
    "a = result.astype(int)\n",
    "df1 = pd.DataFrame({'Id': a})"
   ]
  },
  {
   "cell_type": "code",
   "execution_count": 22,
   "metadata": {
    "colab": {
     "base_uri": "https://localhost:8080/",
     "height": 204
    },
    "colab_type": "code",
    "id": "QoBvDzEoyj5N",
    "outputId": "6098f782-b6cf-4975-c26a-2d9f406ef27e"
   },
   "outputs": [
    {
     "data": {
      "text/html": [
       "<div>\n",
       "<style scoped>\n",
       "    .dataframe tbody tr th:only-of-type {\n",
       "        vertical-align: middle;\n",
       "    }\n",
       "\n",
       "    .dataframe tbody tr th {\n",
       "        vertical-align: top;\n",
       "    }\n",
       "\n",
       "    .dataframe thead th {\n",
       "        text-align: right;\n",
       "    }\n",
       "</style>\n",
       "<table border=\"1\" class=\"dataframe\">\n",
       "  <thead>\n",
       "    <tr style=\"text-align: right;\">\n",
       "      <th></th>\n",
       "      <th>Id</th>\n",
       "      <th>Category</th>\n",
       "    </tr>\n",
       "  </thead>\n",
       "  <tbody>\n",
       "    <tr>\n",
       "      <th>0</th>\n",
       "      <td>0</td>\n",
       "      <td>7</td>\n",
       "    </tr>\n",
       "    <tr>\n",
       "      <th>1</th>\n",
       "      <td>1</td>\n",
       "      <td>1</td>\n",
       "    </tr>\n",
       "    <tr>\n",
       "      <th>2</th>\n",
       "      <td>2</td>\n",
       "      <td>6</td>\n",
       "    </tr>\n",
       "    <tr>\n",
       "      <th>3</th>\n",
       "      <td>3</td>\n",
       "      <td>1</td>\n",
       "    </tr>\n",
       "    <tr>\n",
       "      <th>4</th>\n",
       "      <td>4</td>\n",
       "      <td>8</td>\n",
       "    </tr>\n",
       "  </tbody>\n",
       "</table>\n",
       "</div>"
      ],
      "text/plain": [
       "   Id  Category\n",
       "0   0         7\n",
       "1   1         1\n",
       "2   2         6\n",
       "3   3         1\n",
       "4   4         8"
      ]
     },
     "execution_count": 22,
     "metadata": {
      "tags": []
     },
     "output_type": "execute_result"
    }
   ],
   "source": [
    "submission['Id']=range(0, len(df1) )\n",
    "\n",
    "submission['Category']=a\n",
    "submission.head()"
   ]
  },
  {
   "cell_type": "code",
   "execution_count": 0,
   "metadata": {
    "colab": {},
    "colab_type": "code",
    "id": "XTqa6lNJpIBM"
   },
   "outputs": [],
   "source": [
    "submission.to_csv('vgg19_.csv', index=False)"
   ]
  },
  {
   "cell_type": "code",
   "execution_count": 0,
   "metadata": {
    "colab": {},
    "colab_type": "code",
    "id": "LVj0yPYlzjJn"
   },
   "outputs": [],
   "source": [
    "from google.colab import files\n",
    "files.download('vgg19_.csv') "
   ]
  }
 ],
 "metadata": {
  "accelerator": "GPU",
  "colab": {
   "collapsed_sections": [],
   "name": "vgg16.ipynb",
   "provenance": [],
   "version": "0.3.2"
  },
  "kernelspec": {
   "display_name": "Python 3",
   "language": "python",
   "name": "python3"
  },
  "language_info": {
   "codemirror_mode": {
    "name": "ipython",
    "version": 3
   },
   "file_extension": ".py",
   "mimetype": "text/x-python",
   "name": "python",
   "nbconvert_exporter": "python",
   "pygments_lexer": "ipython3",
   "version": "3.7.1"
  }
 },
 "nbformat": 4,
 "nbformat_minor": 1
}
